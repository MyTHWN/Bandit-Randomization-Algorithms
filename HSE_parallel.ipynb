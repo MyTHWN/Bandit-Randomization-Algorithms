{
 "cells": [
  {
   "cell_type": "code",
   "execution_count": 1,
   "metadata": {
    "cellView": "form",
    "colab": {
     "height": 34
    },
    "colab_type": "code",
    "executionInfo": {
     "elapsed": 13691,
     "status": "ok",
     "timestamp": 1559316772873,
     "user": {
      "displayName": "",
      "photoUrl": "",
      "userId": ""
     },
     "user_tz": 0
    },
    "id": "dUrLMhAcZYDY",
    "outputId": "27b7dcd5-454c-410d-fc95-ee2db65b84b1"
   },
   "outputs": [
    {
     "name": "stdout",
     "output_type": "stream",
     "text": [
      "matplotlib 3.0.2\n"
     ]
    }
   ],
   "source": [
    "%matplotlib inline\n",
    "\n",
    "import itertools\n",
    "import matplotlib as mpl\n",
    "import matplotlib.pyplot as plt\n",
    "import numpy as np\n",
    "import time\n",
    "\n",
    "mpl.style.use(\"classic\")\n",
    "mpl.rcParams[\"figure.figsize\"] = [5, 3]\n",
    "\n",
    "mpl.rcParams[\"axes.linewidth\"] = 0.75\n",
    "mpl.rcParams[\"grid.linewidth\"] = 0.75\n",
    "mpl.rcParams[\"lines.linewidth\"] = 0.75\n",
    "mpl.rcParams[\"patch.linewidth\"] = 0.75\n",
    "mpl.rcParams[\"xtick.major.size\"] = 3\n",
    "mpl.rcParams[\"ytick.major.size\"] = 3\n",
    "\n",
    "mpl.rcParams[\"pdf.fonttype\"] = 42\n",
    "mpl.rcParams[\"ps.fonttype\"] = 42\n",
    "mpl.rcParams[\"font.size\"] = 7\n",
    "mpl.rcParams[\"axes.titlesize\"] = \"medium\"\n",
    "mpl.rcParams[\"legend.fontsize\"] = \"medium\"\n",
    "\n",
    "print(\"matplotlib %s\" % mpl.__version__)\n",
    "\n",
    "from bandits.simulator import *\n",
    "from bandits.algorithms import *\n",
    "from bandits.phe import *\n",
    "from bandits.hse import *\n",
    "\n",
    "def linestyle2dashes(style):\n",
    "  if style == \"--\":\n",
    "    return (3, 3)\n",
    "  elif style == \":\":\n",
    "    return (0.5, 2.5)\n",
    "  else:\n",
    "    return (None, None)"
   ]
  },
  {
   "cell_type": "code",
   "execution_count": null,
   "metadata": {},
   "outputs": [
    {
     "name": "stdout",
     "output_type": "stream",
     "text": [
      "Evaluating TS.................................................................................................... 24.1 seconds\n",
      "Regret: 113.63 +/- 4.60 (median: 105.00, max: 288.00, min: -12.00)\n",
      "Evaluating PHE.................................................................................................... 28.4 seconds\n",
      "Regret: 120.77 +/- 4.10 (median: 117.00, max: 247.00, min: -34.00)\n",
      "Evaluating PHE.................................................................................................... 25.8 seconds\n",
      "Regret: 164.98 +/- 28.97 (median: 60.00, max: 1890.00, min: -25.00)\n",
      "Evaluating Histroy-Swapping.................................................................................................... 16.5 seconds\n",
      "Regret: 188.18 +/- 26.43 (median: 56.00, max: 1557.00, min: -15.00)\n",
      "Evaluating Histroy-Swapping.................................................................................................... 23.1 seconds\n",
      "Regret: 167.47 +/- 17.87 (median: 83.00, max: 955.00, min: 3.00)\n",
      "Evaluating Fresh Histroy-Swapping.................................................................................................... 313.1 seconds\n",
      "Regret: 190.75 +/- 33.50 (median: 34.00, max: 2664.00, min: -14.00)\n",
      "Evaluating Fresh Histroy-Swapping.................................................................................................... 326.0 seconds\n",
      "Regret: 177.84 +/- 20.91 (median: 90.50, max: 1122.00, min: -44.00)\n",
      "Evaluating Fresh Histroy-Swapping.................................................................................................... 409.0 seconds\n",
      "Regret: 144.01 +/- 16.42 (median: 52.00, max: 871.00, min: 14.00)\n",
      "Evaluating TS.................................................................................................... 25.6 seconds\n",
      "Regret: 112.10 +/- 3.82 (median: 107.49, max: 324.24, min: 47.63)\n",
      "Evaluating PHE.................................................................................................... 34.0 seconds\n",
      "Regret: 123.60 +/- 2.29 (median: 123.04, max: 196.27, min: 67.25)\n",
      "Evaluating PHE............................................................"
     ]
    }
   ],
   "source": [
    "import datetime\n",
    "\n",
    "algs = [\n",
    "  (\"TS\", {}, \"gray\", \"-\", \"TS\"),\n",
    "  #(\"PHE\", {\"a\": 2.1}, \"red\", \"-\", \"PHE (a = 2.1)\"),\n",
    "  (\"PHE\", {\"a\": 1.1}, \"darkorange\", \"-\", \"PHE (a = 1.1)\"),\n",
    "  (\"PHE\", {\"a\": 0.5}, \"gold\", \"-\", \"PHE (a = 0.5)\"),\n",
    "  #(\"HistorySwapping\", {\"swap_prob\": 0.}, \"gray\", \"-\", \"HS (swap_prob = 0.)\"),\n",
    "  (\"HistorySwapping\", {\"swap_prob\": 0.01}, \"darkgreen\", \"-\", \"HS (swap_prob = 0.01)\"),\n",
    "  (\"HistorySwapping\", {\"swap_prob\": 0.03}, \"red\", \"-\", \"HS (swap_prob = 0.03)\"),\n",
    "  #(\"HistorySwapping\", {\"swap_prob\": 0.05}, \"blue\", \"-\", \"HS (swap_prob = 0.05)\"),\n",
    "  #(\"HistorySwapping\", {\"swap_prob\": 0.02}, \"black\", \"-\", \"HS (swap_prob = 0.02)\"),\n",
    "  (\"FreshHistorySwapping\", {\"swap_prob\": 0.0001}, \"magenta\", \"-\", \"FHS (swap_prob = 0.0003)\"),\n",
    "  (\"FreshHistorySwapping\", {\"swap_prob\": 0.0003}, \"black\", \"-\", \"FHS (swap_prob = 0.0003)\"),\n",
    "  (\"FreshHistorySwapping\", {\"swap_prob\": 0.001}, \"cyan\", \"-\", \"FHS (swap_prob = 0.001)\"),\n",
    "  #(\"FreshHistorySwapping\", {\"swap_prob\": 0.003}, \"darkgreen\", \"-\", \"FHS (swap_prob = 0.03)\"),\n",
    "]\n",
    "num_runs = 100\n",
    "n = 10000\n",
    "K = 10\n",
    "\n",
    "step = np.arange(1, n + 1)\n",
    "sube = (step.size // 10) * np.arange(1, 11) - 1\n",
    "\n",
    "plt.figure(figsize=(5.5, 2))\n",
    "for fig in range(2):\n",
    "  env = []\n",
    "  for run in range(num_runs):\n",
    "    mu = 0.5 * np.random.rand(K) + 0.25\n",
    "    if fig == 0:\n",
    "      env.append(BerBandit(mu))\n",
    "    else:\n",
    "      env.append(BetaBandit(mu))\n",
    "\n",
    "  plt.subplot(1, 2, fig + 1)\n",
    "  #plt.subplot(1, 1, 1)\n",
    "  alg_num = 0\n",
    "  for alg in algs:\n",
    "    alg_class = globals()[alg[0]]\n",
    "    regret, _ = evaluate_parallel(alg_class, alg[1], env, n, num_process=10)\n",
    "\n",
    "    cum_regret = regret.cumsum(axis=0)\n",
    "    plt.plot(step, cum_regret.mean(axis=1),\n",
    "      alg[2], dashes=linestyle2dashes(alg[3]),\n",
    "      label=alg[4] if alg_num // 4 == fig else None)\n",
    "    plt.errorbar(step[sube], cum_regret[sube, :].mean(axis=1),\n",
    "      cum_regret[sube, :].std(axis=1) / np.sqrt(cum_regret.shape[1]),\n",
    "      fmt=\"none\", ecolor=alg[2])\n",
    "\n",
    "    alg_num += 1\n",
    "\n",
    "  if fig == 0:\n",
    "    plt.title(\"Bernoulli bandit\")\n",
    "  else:\n",
    "    plt.title(\"Beta bandit\")\n",
    "    \n",
    "  plt.xlabel(\"Round n\")\n",
    "  if not fig:\n",
    "    plt.ylabel(\"Regret (average {} runs)\".format(num_runs))\n",
    "  if fig <= 1:\n",
    "    plt.legend(loc=\"upper left\", frameon=False)\n",
    "\n",
    "plt.tight_layout()\n",
    "\n",
    "now = datetime.datetime.now()\n",
    "with open(\"results/FHS_{}_{}_{}_{}.jpeg\".format(now.month, now.day, now.hour, now.minute), \"wb\") as f:\n",
    "  plt.savefig(f, format=\"jpeg\", dpi=1200, bbox_inches=0)\n",
    "plt.show()"
   ]
  },
  {
   "cell_type": "code",
   "execution_count": null,
   "metadata": {},
   "outputs": [],
   "source": [
    "import datetime\n",
    "\n",
    "swap_probs = [0.1]#, 3e-3, 1e-2, 3e-2, 0.1]#, 0.12, 0.15, 0.2]\n",
    "swap_probs_labels = ['0.1']#, '3e-3', 'e-2', '3e-2', '0.1'] #\\\n",
    "                     #'4e-2', '5e-2', '8e-2', '0.1', '0.15', '0.12', '0.2']\n",
    "\n",
    "x_axis = np.arange(len(swap_probs))\n",
    "num_runs = 100\n",
    "n = 10000\n",
    "K = 10\n",
    "\n",
    "algs = ['HistorySwapping']\n",
    "colors = {'HistorySwapping':'red'}\n",
    "\n",
    "for fig in range(2):\n",
    "  env = []\n",
    "  for run in range(num_runs):\n",
    "    mu = np.random.rand(K)\n",
    "    if fig == 0:\n",
    "      env.append(BerBandit(mu))\n",
    "    else:\n",
    "      env.append(BetaBandit(mu))\n",
    "\n",
    "  for alg in algs:\n",
    "    alg_class = globals()[alg]\n",
    "    regret_means = []\n",
    "    regret_vars = []\n",
    "    for swap_prob in swap_probs:\n",
    "        regret, _ = evaluate(alg_class, {\"swap_prob\": swap_prob}, env, n)\n",
    "        regret, all_alg = evaluate_parallel(alg_class, {\"swap_prob\": swap_prob}, env, n, num_process=10)\n",
    "        \n",
    "        # cum_regret = regret.sum(axis=0)\n",
    "        # regret_means.append(cum_regret.mean())\n",
    "        # regret_vars.append(cum_regret.std()/num_runs)\n",
    "        \n",
    "#     plt.plot(x_axis, regret_means, colors[alg], dashes=linestyle2dashes('-'), label=alg)\n",
    "#     plt.errorbar(x_axis, regret_means, regret_vars, fmt=\"none\", ecolor=colors[alg])\n",
    "#     plt.xticks(x_axis, swap_probs_labels)\n",
    "    \n",
    "#   if fig == 0:\n",
    "#     plt.title(\"Bernoulli bandit\")\n",
    "#   else:\n",
    "#     plt.title(\"Beta bandit\")\n",
    "    \n",
    "#   plt.xlabel(\"swap probability\")\n",
    "#   if not fig:\n",
    "#     plt.ylabel(\"Cumulative Regret\")\n",
    "\n",
    "#   if fig <= 1:\n",
    "#     plt.legend(loc=\"upper left\", frameon=False)\n",
    "\n",
    "# plt.tight_layout()\n",
    "# # now = datetime.datetime.now()\n",
    "# # with open(\"results/FHS_vs_SwapProb_{}_{}_{}_{}.jpeg\".format(now.month, now.day, now.hour, now.minute), \"wb\") as f:\n",
    "# #   plt.savefig(f, format=\"jpeg\", dpi=1200, bbox_inches=0)\n",
    "# plt.show()"
   ]
  },
  {
   "cell_type": "code",
   "execution_count": null,
   "metadata": {},
   "outputs": [],
   "source": []
  },
  {
   "cell_type": "code",
   "execution_count": null,
   "metadata": {},
   "outputs": [],
   "source": []
  }
 ],
 "metadata": {
  "colab": {
   "collapsed_sections": [],
   "last_runtime": {
    "build_target": "//research/colab/notebook:notebook_backend",
    "kind": "private"
   },
   "name": "PHE.ipynb",
   "provenance": [
    {
     "file_id": "/piper/depot/google3/experimental/users/bkveton/PHE/ICML2019/Giro.ipynb?workspaceId=bkveton:bandits::citc",
     "timestamp": 1550373354024
    },
    {
     "file_id": "/piper/depot/google3/experimental/users/bkveton/PHE/PHE.ipynb?workspaceId=bkveton:custom_colab::citc",
     "timestamp": 1547612018471
    },
    {
     "file_id": "1LhE7RPIsiVHxKVhhQ_ddNwtL78yqsrZi",
     "timestamp": 1546401322558
    },
    {
     "file_id": "1hGOquMsYlCi0_oDMIM_IlidSI7sPWoYF",
     "timestamp": 1536892738296
    },
    {
     "file_id": "11k4kxddvtZjrTYpnuJP549znnEadfMNL",
     "timestamp": 1535848084981
    }
   ]
  },
  "kernelspec": {
   "display_name": "Python 3",
   "language": "python",
   "name": "python3"
  },
  "language_info": {
   "codemirror_mode": {
    "name": "ipython",
    "version": 3
   },
   "file_extension": ".py",
   "mimetype": "text/x-python",
   "name": "python",
   "nbconvert_exporter": "python",
   "pygments_lexer": "ipython3",
   "version": "3.6.10"
  }
 },
 "nbformat": 4,
 "nbformat_minor": 1
}
