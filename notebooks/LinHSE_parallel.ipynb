{
 "cells": [
  {
   "cell_type": "code",
   "execution_count": 5,
   "metadata": {
    "cellView": "form",
    "colab": {
     "height": 34
    },
    "colab_type": "code",
    "executionInfo": {
     "elapsed": 11910,
     "status": "ok",
     "timestamp": 1563554785932,
     "user": {
      "displayName": "",
      "photoUrl": "",
      "userId": ""
     },
     "user_tz": 0
    },
    "id": "dUrLMhAcZYDY",
    "outputId": "76c1d084-e533-4d5c-e63a-f4cd6a4d8f5b"
   },
   "outputs": [
    {
     "name": "stdout",
     "output_type": "stream",
     "text": [
      "matplotlib 3.0.2\n"
     ]
    }
   ],
   "source": [
    "from __future__ import absolute_import, division, print_function\n",
    "\n",
    "#@title Imports and defaults\n",
    "%matplotlib inline\n",
    "\n",
    "import itertools\n",
    "import matplotlib as mpl\n",
    "import matplotlib.pyplot as plt\n",
    "import numpy as np\n",
    "import time\n",
    "import os\n",
    "import sys\n",
    "\n",
    "sys.path.append(\"..\")\n",
    "\n",
    "mpl.style.use(\"classic\")\n",
    "mpl.rcParams[\"figure.figsize\"] = [5, 3]\n",
    "\n",
    "mpl.rcParams[\"axes.linewidth\"] = 0.75\n",
    "mpl.rcParams[\"grid.linewidth\"] = 0.75\n",
    "mpl.rcParams[\"lines.linewidth\"] = 0.75\n",
    "mpl.rcParams[\"patch.linewidth\"] = 0.75\n",
    "mpl.rcParams[\"xtick.major.size\"] = 3\n",
    "mpl.rcParams[\"ytick.major.size\"] = 3\n",
    "\n",
    "mpl.rcParams[\"pdf.fonttype\"] = 42\n",
    "mpl.rcParams[\"ps.fonttype\"] = 42\n",
    "mpl.rcParams[\"font.size\"] = 7\n",
    "mpl.rcParams[\"axes.titlesize\"] = \"medium\"\n",
    "mpl.rcParams[\"legend.fontsize\"] = \"medium\"\n",
    "\n",
    "print(\"matplotlib %s\" % mpl.__version__)\n",
    "\n",
    "from bandits.simulator import *\n",
    "from bandits.algorithms import *\n",
    "from bandits.phe import *\n",
    "from bandits.dropout import *\n",
    "from bandits.hse import *\n",
    "\n",
    "def linestyle2dashes(style):\n",
    "  if style == \"--\":\n",
    "    return (3, 3)\n",
    "  elif style == \":\":\n",
    "    return (0.5, 2.5)\n",
    "  else:\n",
    "    return (None, None)"
   ]
  },
  {
   "cell_type": "code",
   "execution_count": 8,
   "metadata": {},
   "outputs": [
    {
     "name": "stdout",
     "output_type": "stream",
     "text": [
      "  2: 0.04 0.91 |  18: 0.04 0.97 | Evaluating Lin History-Swapping.. 0.1 seconds\n",
      "Regret: 27.00 +/- 0.71 (median: 27.00, max: 28.00, min: 26.00)\n",
      "Evaluating Lin History-Swapping.. 0.3 seconds\n",
      "Regret: 24.50 +/- 1.06 (median: 24.50, max: 26.00, min: 23.00)\n",
      "Evaluating Lin History-Swapping.. 0.7 seconds\n",
      "Regret: 23.00 +/- 0.71 (median: 23.00, max: 24.00, min: 22.00)\n",
      "Evaluating Lin History-Swapping.. 0.2 seconds\n",
      "Regret: 27.00 +/- 0.71 (median: 27.00, max: 28.00, min: 26.00)\n",
      "Evaluating Lin History-Swapping.. 0.6 seconds\n",
      "Regret: 30.00 +/- 4.24 (median: 30.00, max: 36.00, min: 24.00)\n",
      "Evaluating Lin History-Swapping.. 0.3 seconds\n",
      "Regret: 30.00 +/- 4.24 (median: 30.00, max: 36.00, min: 24.00)\n",
      " 18: 0.19 0.85 |  33: 0.11 0.87 | Evaluating Lin History-Swapping.. 0.1 seconds\n",
      "Regret: 13.50 +/- 1.77 (median: 13.50, max: 16.00, min: 11.00)\n",
      "Evaluating Lin History-Swapping.. 0.2 seconds\n",
      "Regret: 15.50 +/- 1.06 (median: 15.50, max: 17.00, min: 14.00)\n",
      "Evaluating Lin History-Swapping.. 0.2 seconds\n",
      "Regret: 16.00 +/- 0.00 (median: 16.00, max: 16.00, min: 16.00)\n",
      "Evaluating Lin History-Swapping.. 0.1 seconds\n",
      "Regret: 13.50 +/- 1.77 (median: 13.50, max: 16.00, min: 11.00)\n",
      "Evaluating Lin History-Swapping.. 0.2 seconds\n",
      "Regret: 26.00 +/- 1.41 (median: 26.00, max: 28.00, min: 24.00)\n",
      "Evaluating Lin History-Swapping.. 0.2 seconds\n",
      "Regret: 26.00 +/- 1.41 (median: 26.00, max: 28.00, min: 24.00)\n"
     ]
    },
    {
     "data": {
      "image/png": "[encoded data removed]",
      "text/plain": [
       "<Figure size 480x200 with 2 Axes>"
      ]
     },
     "metadata": {},
     "output_type": "display_data"
    }
   ],
   "source": [
    "import datetime\n",
    "\n",
    "reward_noise = \"bernoulli\"\n",
    "\n",
    "swap_probs = [0, 3e-3, 1e-2, 3e-2, 0.1, 0.15, 0.2, 0.25, 0.3, 0.35, 0.4, 0.45, 0.5]\n",
    "swap_probs_labels = ['0', '3e-3', '1e-2', '3e-2', '0.1', '0.15', '0.2', '0.25', \n",
    "                     '0.3', '0.35', '0.4', '0.45', '0.5'] \n",
    "\n",
    "x_axis = np.arange(len(swap_probs))\n",
    "num_runs = 20\n",
    "n = 10000\n",
    "K = 50\n",
    "\n",
    "plt.figure(figsize=(6, 2.5))\n",
    "algs = ['LinHistorySwap']\n",
    "colors = {'LinHistorySwap':'red'}\n",
    "\n",
    "for fig in range(2):\n",
    "  if fig == 0:\n",
    "    d = 5\n",
    "  elif fig == 1:\n",
    "    d = 10\n",
    "  else:\n",
    "    d = 20\n",
    "    \n",
    "  env = []\n",
    "  for run in range(num_runs):\n",
    "    # standard d-dimensional basis (with a bias term)\n",
    "    basis = np.eye(d)\n",
    "    basis[:, -1] = 1\n",
    "\n",
    "    # arm features in a unit (d - 2)-sphere\n",
    "    X = np.random.randn(K, d - 1)\n",
    "    X /= np.sqrt(np.square(X).sum(axis=1))[:, np.newaxis]\n",
    "    X = np.hstack((X, np.ones((K, 1))))  # bias term\n",
    "    X[: basis.shape[0], :] = basis\n",
    "\n",
    "    # parameter vector in a (d - 2)-sphere with radius 0.5\n",
    "    theta = np.random.randn(d - 1)\n",
    "    theta *= 0.5 / np.sqrt(np.square(theta).sum())\n",
    "    theta = np.append(theta, [0.5])\n",
    "\n",
    "    # create environment\n",
    "    env.append(LinBandit(X, theta, reward_noise))\n",
    "    print(\"%3d: %.2f %.2f | \" % (env[-1].best_arm,\n",
    "      env[-1].mu.min(), env[-1].mu.max()), end=\"\")\n",
    "    if (run + 1) % 10 == 0:\n",
    "      print()\n",
    "\n",
    "  plt.subplot(1, 2, fig + 1)\n",
    "\n",
    "  for alg in algs:\n",
    "    for sample_method in ['random', 'ceil']:\n",
    "        alg_class = eval(alg)\n",
    "        regret_means = []\n",
    "        regret_vars = []\n",
    "        for swap_prob in swap_probs:\n",
    "            if d < 14:\n",
    "                regret, _ = evaluate_parallel(alg_class, \n",
    "                    {\"swap_prob\": swap_prob, \"sample_method\": sample_method}, env, n, num_process=12)\n",
    "            else:\n",
    "                regret, _ = evaluate(alg_class, \n",
    "                    {\"swap_prob\": swap_prob, \"sample_method\": sample_method}, env, n)\n",
    "\n",
    "            cum_regret = regret.sum(axis=0)\n",
    "            regret_means.append(cum_regret.mean())\n",
    "            regret_vars.append(cum_regret.std()/num_runs)\n",
    "\n",
    "        plt.plot(x_axis, regret_means, dashes=linestyle2dashes('-'), label=alg+':'+sample_method)\n",
    "        plt.errorbar(x_axis, regret_means, regret_vars, fmt=\"none\")#, ecolor=colors[alg])\n",
    "        plt.xticks(x_axis, swap_probs_labels)\n",
    "    \n",
    "  plt.title(\"d = %d\" % d)\n",
    "  plt.xlabel(\"swap_prob\")\n",
    "  if not fig:\n",
    "    plt.ylabel(\"Regret (average {} runs)\".format(num_runs))\n",
    "  if fig <= 2:\n",
    "    plt.legend(loc=\"upper left\", frameon=False)  \n",
    "\n",
    "plt.tight_layout()\n",
    "now = datetime.datetime.now()\n",
    "with open(\"../results/LinHS_vs_SwapProb_{}_{}_{}_{}.jpeg\" \\\n",
    "          .format(now.month, now.day, now.hour, now.minute), \"wb\") as f:\n",
    "  plt.savefig(f, format=\"jpeg\", dpi=1200, bbox_inches=0)\n",
    "plt.show()"
   ]
  },
  {
   "cell_type": "code",
   "execution_count": 4,
   "metadata": {
    "cellView": "both",
    "colab": {
     "height": 732
    },
    "colab_type": "code",
    "executionInfo": {
     "elapsed": 7425,
     "status": "ok",
     "timestamp": 1563554793743,
     "user": {
      "displayName": "",
      "photoUrl": "",
      "userId": ""
     },
     "user_tz": 0
    },
    "id": "yI_rP5VL5Ke9",
    "outputId": "7b77e6ff-8b8a-4587-a2cb-dbea389ccfff"
   },
   "outputs": [
    {
     "name": "stdout",
     "output_type": "stream",
     "text": [
      " 34: 0.02 0.98 |  35: 0.05 0.90 | Evaluating LinTS.. 0.6 seconds\n",
      "Regret: 28.00 +/- 1.41 (median: 28.00, max: 30.00, min: 26.00)\n",
      "Evaluating LinPHE.. 0.3 seconds\n",
      "Regret: 56.00 +/- 2.83 (median: 56.00, max: 60.00, min: 52.00)\n",
      "Evaluating LinPHE.. 0.2 seconds\n",
      "Regret: 48.50 +/- 3.89 (median: 48.50, max: 54.00, min: 43.00)\n",
      "Evaluating Lin History-Swapping.. 1.8 seconds\n",
      "Regret: 33.50 +/- 0.35 (median: 33.50, max: 34.00, min: 33.00)\n",
      "Evaluating Lin History-Swapping.. 1.9 seconds\n",
      "Regret: 33.00 +/- 2.83 (median: 33.00, max: 37.00, min: 29.00)\n",
      "Evaluating Lin History-Swapping.. 2.1 seconds\n",
      "Regret: 42.50 +/- 0.35 (median: 42.50, max: 43.00, min: 42.00)\n",
      " 37: 0.15 0.87 |  11: 0.20 0.93 | Evaluating LinTS.. 0.6 seconds\n",
      "Regret: 86.00 +/- 7.78 (median: 86.00, max: 97.00, min: 75.00)\n",
      "Evaluating LinPHE.. 0.2 seconds\n",
      "Regret: 82.50 +/- 4.60 (median: 82.50, max: 89.00, min: 76.00)\n",
      "Evaluating LinPHE.. 0.2 seconds\n",
      "Regret: 52.00 +/- 0.71 (median: 52.00, max: 53.00, min: 51.00)\n",
      "Evaluating Lin History-Swapping.. 1.5 seconds\n",
      "Regret: 34.00 +/- 1.41 (median: 34.00, max: 36.00, min: 32.00)\n",
      "Evaluating Lin History-Swapping.. 1.7 seconds\n",
      "Regret: 46.50 +/- 3.18 (median: 46.50, max: 51.00, min: 42.00)\n",
      "Evaluating Lin History-Swapping.. 1.9 seconds\n",
      "Regret: 60.50 +/- 6.72 (median: 60.50, max: 70.00, min: 51.00)\n"
     ]
    },
    {
     "data": {
      "image/png": "[encoded data removed]",
      "text/plain": [
       "<Figure size 480x200 with 2 Axes>"
      ]
     },
     "metadata": {},
     "output_type": "display_data"
    }
   ],
   "source": [
    "import datetime\n",
    "\n",
    "reward_noise = \"bernoulli\"\n",
    "\n",
    "algs = [\n",
    "  #(\"LinUCB\", {}, \"cyan\", \"-\", \"LinUCB\"),\n",
    "  (\"LinTS\", {}, \"gray\", \"-\", \"LinTS\"),\n",
    "  #(\"LinGreedy\", {}, \"blue\", \"-\", \"$\\\\varepsilon$-greedy\"),\n",
    "  #(\"LinPHE\", {\"a\": 2}, \"red\", \"-\", \"LinPHE (a = 2)\"),\n",
    "  (\"LinPHE\", {\"a\": 1}, \"darkorange\", \"-\", \"LinPHE (a = 1)\"),\n",
    "  (\"LinPHE\", {\"a\": 0.5}, \"gold\", \"-\", \"LinPHE (a = 0.5)\"),\n",
    "  #(\"LinHistorySwap\", {\"swap_prob\": 0.05}, \"cyan\", \"-\", \"LinHS (swap_prob=0.05)\"),\n",
    "  (\"LinHistorySwap\", {\"swap_prob\": 0.1}, \"darkgreen\", \"-\", \"LinHS (swap_prob=0.1)\"),\n",
    "  (\"LinHistorySwap\", {\"swap_prob\": 0.15}, \"magenta\", \"-\", \"LinHS (swap_prob=0.15)\"),\n",
    "  (\"LinHistorySwap\", {\"swap_prob\": 0.2}, \"cyan\", \"-\", \"LinHS (swap_prob=0.2)\"),\n",
    "]\n",
    "num_runs = 20\n",
    "n = 10000\n",
    "K = 50\n",
    "\n",
    "step = np.arange(1, n + 1)\n",
    "sube = (step.size // 10) * np.arange(1, 11) - 1\n",
    "\n",
    "plt.figure(figsize=(6, 2.5))\n",
    "for fig in range(2):\n",
    "  if fig == 0:\n",
    "    d = 5\n",
    "  elif fig == 1:\n",
    "    d = 10\n",
    "  else:\n",
    "    d = 20\n",
    "\n",
    "  env = []\n",
    "  for run in range(num_runs):\n",
    "    # standard d-dimensional basis (with a bias term)\n",
    "    basis = np.eye(d)\n",
    "    basis[:, -1] = 1\n",
    "\n",
    "    # arm features in a unit (d - 2)-sphere\n",
    "    X = np.random.randn(K, d - 1)\n",
    "    X /= np.sqrt(np.square(X).sum(axis=1))[:, np.newaxis]\n",
    "    X = np.hstack((X, np.ones((K, 1))))  # bias term\n",
    "    X[: basis.shape[0], :] = basis\n",
    "\n",
    "    # parameter vector in a (d - 2)-sphere with radius 0.5\n",
    "    theta = np.random.randn(d - 1)\n",
    "    theta *= 0.5 / np.sqrt(np.square(theta).sum())\n",
    "    theta = np.append(theta, [0.5])\n",
    "\n",
    "    # create environment\n",
    "    env.append(LinBandit(X, theta, reward_noise))\n",
    "    print(\"%3d: %.2f %.2f | \" % (env[-1].best_arm,\n",
    "      env[-1].mu.min(), env[-1].mu.max()), end=\"\")\n",
    "    if (run + 1) % 10 == 0:\n",
    "      print()\n",
    "\n",
    "  plt.subplot(1, 2, fig + 1)\n",
    "  # plt.subplot(1, 1, 1)\n",
    "  alg_num = 0\n",
    "  for alg in algs:\n",
    "    alg_class = eval(alg[0])\n",
    "\n",
    "#     fname = \"%s/lin_d=%d_%d_%s.npy\" % \\\n",
    "#       (current_dir, d, alg_num, alg[0].lower())\n",
    "#     if not os.path.exists(fname):\n",
    "#       regret, _ = evaluate(alg_class, alg[1], env, n)\n",
    "#       with open(fname, \"wb\") as f:\n",
    "#         np.save(f, regret)\n",
    "#     with open(fname, \"rb\") as f:\n",
    "#       regret = np.load(f)\n",
    "    if d < 14:\n",
    "        regret, _ = evaluate_parallel(alg_class, alg[1], env, n, num_process=10)\n",
    "    else:\n",
    "        regret, _ = evaluate(alg_class, alg[1], env, n)\n",
    "\n",
    "    cum_regret = regret.cumsum(axis=0)\n",
    "    std_regret = cum_regret.std(axis=1) / np.sqrt(cum_regret.shape[1])\n",
    "    plt.plot(step, cum_regret.mean(axis=1),\n",
    "      alg[2], dashes=linestyle2dashes(alg[3]),\n",
    "      label=alg[4] if alg_num // 3 == fig else None)\n",
    "    plt.fill_between(step,\n",
    "      cum_regret.mean(axis=1) - std_regret,\n",
    "      cum_regret.mean(axis=1) + std_regret,\n",
    "      color=alg[2], alpha=0.1, linewidth=0)\n",
    "\n",
    "    alg_num += 1\n",
    "\n",
    "  plt.title(\"d = %d\" % d)\n",
    "  plt.xlabel(\"Round n\")\n",
    "  if not fig:\n",
    "    plt.ylabel(\"Regret (average {} runs)\".format(num_runs))\n",
    "  #plt.ylim(0, 500 - 100 * (2 - fig))\n",
    "  if fig <= 1:\n",
    "    plt.legend(loc=\"upper left\", frameon=False)\n",
    "\n",
    "plt.tight_layout()\n",
    "\n",
    "now = datetime.datetime.now()\n",
    "with open(\"../results/LinHS_{}_{}_{}_{}_{}.jpeg\".format(reward_noise, now.month, now.day, now.hour, now.minute), \"wb\") as f:\n",
    "  plt.savefig(f, format=\"jpeg\", dpi=1200, bbox_inches=0)\n",
    "plt.show()"
   ]
  },
  {
   "cell_type": "code",
   "execution_count": null,
   "metadata": {},
   "outputs": [],
   "source": []
  }
 ],
 "metadata": {
  "colab": {
   "collapsed_sections": [],
   "last_runtime": {
    "build_target": "//research/colab/notebook:notebook_backend",
    "kind": "private"
   },
   "name": "LinPHE.ipynb",
   "provenance": [
    {
     "file_id": "/piper/depot/google3/experimental/users/bkveton/PHE/LinPHE.ipynb?workspaceId=bkveton:bandits::citc",
     "timestamp": 1551499731146
    },
    {
     "file_id": "1tDjLRLsjR0h7AGAXwuF1FvrdylfiMRYV",
     "timestamp": 1545173695315
    },
    {
     "file_id": "1nH2KirlUdRSICZfpn0XrH2CBOqIL6brP",
     "timestamp": 1541137118545
    },
    {
     "file_id": "1LhE7RPIsiVHxKVhhQ_ddNwtL78yqsrZi",
     "timestamp": 1537332805316
    },
    {
     "file_id": "1hGOquMsYlCi0_oDMIM_IlidSI7sPWoYF",
     "timestamp": 1536892738296
    },
    {
     "file_id": "11k4kxddvtZjrTYpnuJP549znnEadfMNL",
     "timestamp": 1535848084981
    }
   ]
  },
  "kernelspec": {
   "display_name": "Python 3",
   "language": "python",
   "name": "python3"
  },
  "language_info": {
   "codemirror_mode": {
    "name": "ipython",
    "version": 3
   },
   "file_extension": ".py",
   "mimetype": "text/x-python",
   "name": "python",
   "nbconvert_exporter": "python",
   "pygments_lexer": "ipython3",
   "version": "3.6.10"
  }
 },
 "nbformat": 4,
 "nbformat_minor": 1
}
