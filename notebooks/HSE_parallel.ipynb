{
 "cells": [
  {
   "cell_type": "code",
   "execution_count": 1,
   "metadata": {
    "cellView": "form",
    "colab": {
     "height": 34
    },
    "colab_type": "code",
    "executionInfo": {
     "elapsed": 13691,
     "status": "ok",
     "timestamp": 1559316772873,
     "user": {
      "displayName": "",
      "photoUrl": "",
      "userId": ""
     },
     "user_tz": 0
    },
    "id": "dUrLMhAcZYDY",
    "outputId": "27b7dcd5-454c-410d-fc95-ee2db65b84b1"
   },
   "outputs": [
    {
     "name": "stdout",
     "output_type": "stream",
     "text": [
      "matplotlib 3.2.2\n",
      "Successful!\n"
     ]
    }
   ],
   "source": [
    "%matplotlib inline\n",
    "\n",
    "import itertools\n",
    "import matplotlib as mpl\n",
    "import matplotlib.pyplot as plt\n",
    "import numpy as np\n",
    "import time\n",
    "import sys\n",
    "\n",
    "sys.path.append(\"..\")\n",
    "\n",
    "mpl.style.use(\"classic\")\n",
    "mpl.rcParams[\"figure.figsize\"] = [5, 3]\n",
    "\n",
    "mpl.rcParams[\"axes.linewidth\"] = 0.75\n",
    "mpl.rcParams[\"grid.linewidth\"] = 0.75\n",
    "mpl.rcParams[\"lines.linewidth\"] = 0.75\n",
    "mpl.rcParams[\"patch.linewidth\"] = 0.75\n",
    "mpl.rcParams[\"xtick.major.size\"] = 3\n",
    "mpl.rcParams[\"ytick.major.size\"] = 3\n",
    "\n",
    "mpl.rcParams[\"pdf.fonttype\"] = 42\n",
    "mpl.rcParams[\"ps.fonttype\"] = 42\n",
    "mpl.rcParams[\"font.size\"] = 7\n",
    "mpl.rcParams[\"axes.titlesize\"] = \"medium\"\n",
    "mpl.rcParams[\"legend.fontsize\"] = \"medium\"\n",
    "\n",
    "print(\"matplotlib %s\" % mpl.__version__)\n",
    "print('Successful!')\n",
    "\n",
    "from bandits.simulator import *\n",
    "from bandits.algorithms import *\n",
    "from bandits.phe import *\n",
    "from bandits.hse import *\n",
    "\n",
    "def linestyle2dashes(style):\n",
    "  if style == \"--\":\n",
    "    return (3, 3)\n",
    "  elif style == \":\":\n",
    "    return (0.5, 2.5)\n",
    "  else:\n",
    "    return (None, None)"
   ]
  },
  {
   "cell_type": "code",
   "execution_count": 5,
   "metadata": {},
   "outputs": [
    {
     "name": "stdout",
     "output_type": "stream",
     "text": [
      "Evaluating Gaussian TS.................... 0.7 seconds\n",
      "Regret: 118.95 +/- 7.49 (median: 107.54, max: 217.90, min: 69.36)\n",
      "Evaluating PHE.................... 1.4 seconds\n",
      "Regret: 115.43 +/- 9.65 (median: 101.79, max: 197.65, min: 48.29)\n",
      "Evaluating PHE.................... 1.4 seconds\n",
      "Regret: 82.31 +/- 13.89 (median: 60.03, max: 241.93, min: 21.53)\n",
      "Evaluating Histroy-Swapping.................... 33.5 seconds\n",
      "Regret: 79.55 +/- 8.47 (median: 75.54, max: 220.48, min: 17.72)\n",
      "Evaluating Histroy-Swapping-SampleWithReplacement.................... 142.0 seconds\n",
      "Regret: 76.60 +/- 18.77 (median: 47.76, max: 353.54, min: -24.56)\n",
      "Evaluating Histroy-Swapping-SampleWithReplacement.................... 144.0 seconds\n",
      "Regret: 78.71 +/- 8.66 (median: 72.76, max: 208.88, min: 38.83)\n",
      "Evaluating Histroy-Swapping-SampleWithReplacement.................... 134.4 seconds\n",
      "Regret: 110.49 +/- 4.84 (median: 106.13, max: 149.62, min: 71.21)\n"
     ]
    },
    {
     "data": {
      "image/png": "[encoded data removed]",
      "text/plain": [
       "<Figure size 240x160 with 1 Axes>"
      ]
     },
     "metadata": {},
     "output_type": "display_data"
    }
   ],
   "source": [
    "import datetime\n",
    "\n",
    "algs = [\n",
    "#    (\"TS\", {}, \"gray\", \"-\", \"TS\"),\n",
    "(\"GaussTS\", {}, \"gray\", \"-\", \"TS\"),\n",
    "  #(\"PHE\", {\"a\": 2.1}, \"red\", \"-\", \"PHE (a = 2.1)\"),\n",
    "  (\"PHE\", {\"a\": 1.1}, \"darkorange\", \"-\", \"PHE (a = 1.1)\"),\n",
    "  (\"PHE\", {\"a\": 0.5}, \"gold\", \"-\", \"PHE (a = 0.5)\"),\n",
    "  #(\"HistorySwapping\", {\"swap_prob\": 0.01}, \"cyan\", \"-\", \"HS (swap_prob = 0.01)\"),\n",
    "  #(\"HistorySwapping\", {\"swap_prob\": 0.03}, \"magenta\", \"-\", \"HS (swap_prob = 0.03)\"),\n",
    "  #(\"HistorySwapping\", {\"swap_prob\": 0.1}, \"darkgreen\", \"-\", \"HS (swap_prob = 0.1)\"),\n",
    "  (\"HistorySwapping\", {\"swap_prob\": 0.15}, \"blue\", \"-\", \"HS (swap_prob = 0.15)\"),\n",
    "  #(\"HistorySwapping_SWR\", {\"sample_portion\": 0.03}, \"magenta\", \"-\", \n",
    "           #\"HS_SWR (sample_portion = 0.03)\"),\n",
    "  (\"HistorySwapping_SWR\", {\"sample_portion\": 0.5}, \"cyan\", \"-\", \n",
    "           \"HS_SWR_noise (sample_portion = 0.5)\"),\n",
    "  (\"HistorySwapping_SWR\", {\"sample_portion\": 0.8}, \"red\", \"-\", \n",
    "           \"HS_SWR_noise (sample_portion = 0.8)\"),\n",
    "  (\"HistorySwapping_SWR\", {\"sample_portion\": 1.2}, \"black\", \"-\", \n",
    "           \"HS_SWR_noise (sample_portion = 1.2)\"),\n",
    "]\n",
    "num_runs = 20\n",
    "n = 10000\n",
    "K = 10\n",
    "\n",
    "step = np.arange(1, n + 1)\n",
    "sube = (step.size // 10) * np.arange(1, 11) - 1\n",
    "\n",
    "plt.figure(figsize=(3, 2))\n",
    "for fig in range(2):\n",
    "  env = []\n",
    "  for run in range(num_runs):\n",
    "    mu = 0.5 * np.random.rand(K) + 0.25\n",
    "    if fig == 0:\n",
    "      env.append(BerBandit(mu))\n",
    "    else:\n",
    "      env.append(GaussBandit(mu))\n",
    "\n",
    "  plt.subplot(1, 1, fig + 1)\n",
    "  #plt.subplot(1, 1, 1)\n",
    "  alg_num = 0\n",
    "  for alg in algs:\n",
    "    alg_class = globals()[alg[0]]\n",
    "    regret, _ = evaluate_parallel(alg_class, alg[1], env, n, num_process=10)\n",
    "\n",
    "    cum_regret = regret.cumsum(axis=0)\n",
    "    plt.plot(step, cum_regret.mean(axis=1),\n",
    "      alg[2], dashes=linestyle2dashes(alg[3]),\n",
    "      label=alg[4] if alg_num // 4 == (fig+1) else None)\n",
    "    plt.errorbar(step[sube], cum_regret[sube, :].mean(axis=1),\n",
    "      cum_regret[sube, :].std(axis=1) / np.sqrt(cum_regret.shape[1]),\n",
    "      fmt=\"none\", ecolor=alg[2])\n",
    "\n",
    "    alg_num += 1\n",
    "\n",
    "  if fig == 0:\n",
    "    plt.title(\"Bernoulli bandit\")\n",
    "  else:\n",
    "    plt.title(\"Gaussian bandit\")\n",
    "    \n",
    "  plt.xlabel(\"Round n\")\n",
    "  if not fig:\n",
    "    plt.ylabel(\"Regret (average {} runs)\".format(num_runs))\n",
    "  if fig <= 1:\n",
    "    plt.legend(loc=\"upper left\", frameon=False)\n",
    "\n",
    "plt.tight_layout()\n",
    "\n",
    "now = datetime.datetime.now()\n",
    "with open(\"../results/HS_SWR_asnoise_{}_{}_{}_{}.jpeg\".format(now.month, now.day, now.hour, now.minute), \"wb\") as f:\n",
    "  plt.savefig(f, format=\"jpeg\", dpi=1200, bbox_inches=0)\n",
    "plt.show()"
   ]
  },
  {
   "cell_type": "code",
   "execution_count": null,
   "metadata": {},
   "outputs": [],
   "source": []
  },
  {
   "cell_type": "code",
   "execution_count": null,
   "metadata": {},
   "outputs": [],
   "source": []
  }
 ],
 "metadata": {
  "colab": {
   "collapsed_sections": [],
   "last_runtime": {
    "build_target": "//research/colab/notebook:notebook_backend",
    "kind": "private"
   },
   "name": "PHE.ipynb",
   "provenance": [
    {
     "file_id": "/piper/depot/google3/experimental/users/bkveton/PHE/ICML2019/Giro.ipynb?workspaceId=bkveton:bandits::citc",
     "timestamp": 1550373354024
    },
    {
     "file_id": "/piper/depot/google3/experimental/users/bkveton/PHE/PHE.ipynb?workspaceId=bkveton:custom_colab::citc",
     "timestamp": 1547612018471
    },
    {
     "file_id": "1LhE7RPIsiVHxKVhhQ_ddNwtL78yqsrZi",
     "timestamp": 1546401322558
    },
    {
     "file_id": "1hGOquMsYlCi0_oDMIM_IlidSI7sPWoYF",
     "timestamp": 1536892738296
    },
    {
     "file_id": "11k4kxddvtZjrTYpnuJP549znnEadfMNL",
     "timestamp": 1535848084981
    }
   ]
  },
  "kernelspec": {
   "display_name": "Python 3",
   "language": "python",
   "name": "python3"
  }
 },
 "nbformat": 4,
 "nbformat_minor": 1
}
