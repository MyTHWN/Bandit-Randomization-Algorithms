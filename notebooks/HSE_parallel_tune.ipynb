{
 "cells": [
  {
   "cell_type": "code",
   "execution_count": 1,
   "metadata": {
    "cellView": "form",
    "colab": {
     "height": 34
    },
    "colab_type": "code",
    "executionInfo": {
     "elapsed": 13691,
     "status": "ok",
     "timestamp": 1559316772873,
     "user": {
      "displayName": "",
      "photoUrl": "",
      "userId": ""
     },
     "user_tz": 0
    },
    "id": "dUrLMhAcZYDY",
    "outputId": "27b7dcd5-454c-410d-fc95-ee2db65b84b1"
   },
   "outputs": [
    {
     "name": "stdout",
     "output_type": "stream",
     "text": [
      "matplotlib 3.2.1\n"
     ]
    }
   ],
   "source": [
    "%matplotlib inline\n",
    "\n",
    "import itertools\n",
    "import matplotlib as mpl\n",
    "import matplotlib.pyplot as plt\n",
    "import numpy as np\n",
    "import time\n",
    "import sys\n",
    "\n",
    "sys.path.append(\"..\")\n",
    "\n",
    "mpl.style.use(\"classic\")\n",
    "mpl.rcParams[\"figure.figsize\"] = [5, 3]\n",
    "\n",
    "mpl.rcParams[\"axes.linewidth\"] = 0.75\n",
    "mpl.rcParams[\"grid.linewidth\"] = 0.75\n",
    "mpl.rcParams[\"lines.linewidth\"] = 0.75\n",
    "mpl.rcParams[\"patch.linewidth\"] = 0.75\n",
    "mpl.rcParams[\"xtick.major.size\"] = 3\n",
    "mpl.rcParams[\"ytick.major.size\"] = 3\n",
    "\n",
    "mpl.rcParams[\"pdf.fonttype\"] = 42\n",
    "mpl.rcParams[\"ps.fonttype\"] = 42\n",
    "mpl.rcParams[\"font.size\"] = 7\n",
    "mpl.rcParams[\"axes.titlesize\"] = \"medium\"\n",
    "mpl.rcParams[\"legend.fontsize\"] = \"medium\"\n",
    "\n",
    "print(\"matplotlib %s\" % mpl.__version__)\n",
    "\n",
    "from bandits.simulator import *\n",
    "from bandits.algorithms import *\n",
    "from bandits.phe import *\n",
    "from bandits.hse import *\n",
    "\n",
    "def linestyle2dashes(style):\n",
    "  if style == \"--\":\n",
    "    return (3, 3)\n",
    "  elif style == \":\":\n",
    "    return (0.5, 2.5)\n",
    "  else:\n",
    "    return (None, None)"
   ]
  },
  {
   "cell_type": "code",
   "execution_count": 2,
   "metadata": {},
   "outputs": [
    {
     "name": "stdout",
     "output_type": "stream",
     "text": [
      "Evaluating All Histroy-Swapping.................... 0.7 seconds\n",
      "Regret: 225.20 +/- 83.00 (median: 10.50, max: 1488.00, min: 4.00)\n",
      "Evaluating All Histroy-Swapping.................... 23.4 seconds\n",
      "Regret: 115.55 +/- 36.62 (median: 17.50, max: 682.00, min: -34.00)\n",
      "Evaluating All Histroy-Swapping.................... 23.1 seconds\n",
      "Regret: 114.25 +/- 52.57 (median: 24.50, max: 822.00, min: 13.00)\n",
      "Evaluating All Histroy-Swapping.................... 24.7 seconds\n",
      "Regret: 57.05 +/- 20.66 (median: 28.00, max: 444.00, min: 19.00)\n",
      "Evaluating All Histroy-Swapping.................... 28.9 seconds\n",
      "Regret: 59.25 +/- 9.86 (median: 40.00, max: 189.00, min: 23.00)\n",
      "Evaluating All Histroy-Swapping.................... 30.9 seconds\n",
      "Regret: 64.85 +/- 12.85 (median: 48.00, max: 308.00, min: 41.00)\n",
      "Evaluating All Histroy-Swapping.................... 33.4 seconds\n",
      "Regret: 66.45 +/- 7.78 (median: 53.50, max: 187.00, min: 43.00)\n",
      "Evaluating All Histroy-Swapping.................... 36.4 seconds\n",
      "Regret: 78.70 +/- 8.89 (median: 63.50, max: 228.00, min: 48.00)\n",
      "Evaluating All Histroy-Swapping.................... 37.9 seconds\n",
      "Regret: 84.75 +/- 5.58 (median: 80.50, max: 156.00, min: 52.00)\n",
      "Evaluating All Histroy-Swapping.................... 40.2 seconds\n",
      "Regret: 98.35 +/- 5.70 (median: 95.00, max: 153.00, min: 60.00)\n",
      "Evaluating All Histroy-Swapping.................... 41.2 seconds\n",
      "Regret: 110.15 +/- 6.63 (median: 107.00, max: 192.00, min: 65.00)\n",
      "Evaluating All Histroy-Swapping.................... 43.5 seconds\n",
      "Regret: 135.30 +/- 8.72 (median: 120.00, max: 244.00, min: 86.00)\n",
      "Evaluating All Histroy-Swapping.................... 46.1 seconds\n",
      "Regret: 162.90 +/- 9.76 (median: 141.50, max: 262.00, min: 120.00)\n",
      "Evaluating All Histroy-Swapping.................... 1.2 seconds\n",
      "Regret: 113.03 +/- 66.04 (median: 5.08, max: 1286.07, min: 2.77)\n",
      "Evaluating All Histroy-Swapping.................... 23.8 seconds\n",
      "Regret: 47.31 +/- 24.70 (median: 10.81, max: 513.81, min: 5.91)\n",
      "Evaluating All Histroy-Swapping.................... 23.7 seconds\n",
      "Regret: 16.35 +/- 2.61 (median: 11.42, max: 50.43, min: 6.68)\n",
      "Evaluating All Histroy-Swapping.................... 25.0 seconds\n",
      "Regret: 22.23 +/- 6.06 (median: 15.73, max: 138.86, min: 7.35)\n",
      "Evaluating All Histroy-Swapping.................... 29.7 seconds\n",
      "Regret: 22.49 +/- 0.95 (median: 22.30, max: 35.04, min: 14.68)\n",
      "Evaluating All Histroy-Swapping.................... 31.8 seconds\n",
      "Regret: 33.14 +/- 6.90 (median: 26.84, max: 166.11, min: 16.34)\n",
      "Evaluating All Histroy-Swapping.................... 34.1 seconds\n",
      "Regret: 30.07 +/- 1.19 (median: 29.79, max: 43.65, min: 19.73)\n",
      "Evaluating All Histroy-Swapping.................... 36.4 seconds\n",
      "Regret: 34.53 +/- 1.42 (median: 32.25, max: 45.59, min: 22.48)\n",
      "Evaluating All Histroy-Swapping.................... 39.7 seconds\n",
      "Regret: 39.76 +/- 1.60 (median: 41.63, max: 56.19, min: 25.90)\n",
      "Evaluating All Histroy-Swapping.................... 40.8 seconds\n",
      "Regret: 47.08 +/- 1.92 (median: 48.15, max: 70.07, min: 31.11)\n",
      "Evaluating All Histroy-Swapping.................... 41.2 seconds\n",
      "Regret: 53.86 +/- 2.13 (median: 53.92, max: 80.01, min: 33.62)\n",
      "Evaluating All Histroy-Swapping.................... 45.0 seconds\n",
      "Regret: 62.26 +/- 2.60 (median: 61.64, max: 91.12, min: 42.91)\n",
      "Evaluating All Histroy-Swapping.................... 47.9 seconds\n",
      "Regret: 71.62 +/- 2.79 (median: 71.74, max: 92.71, min: 48.74)\n"
     ]
    },
    {
     "data": {
      "image/png": "[encoded data removed]",
      "text/plain": [
       "<Figure size 560x160 with 2 Axes>"
      ]
     },
     "metadata": {},
     "output_type": "display_data"
    }
   ],
   "source": [
    "import datetime\n",
    "\n",
    "swap_probs = [0, 3e-3, 1e-2, 3e-2, 0.1, 0.15, 0.2, 0.25, 0.3, 0.35, 0.4, 0.45, 0.5]\n",
    "swap_probs_labels = ['0', '3e-3', '1e-2', '3e-2', '0.1', '0.15', '0.2', '0.25', \n",
    "                     '0.3', '0.35', '0.4', '0.45', '0.5'] \n",
    "\n",
    "x_axis = np.arange(len(swap_probs))\n",
    "num_runs = 20\n",
    "n = 10000\n",
    "K = 10\n",
    "\n",
    "plt.figure(figsize=(7, 2))\n",
    "algs = ['AllHistorySwapping']#, 'FreshHistorySwapping']\n",
    "colors = {'AllHistorySwapping':'red'}#, 'FreshHistorySwapping':'blue'}\n",
    "\n",
    "for fig in range(2):\n",
    "  env = []\n",
    "  for run in range(num_runs):\n",
    "    mu = np.random.rand(K)\n",
    "    if fig == 0:\n",
    "      env.append(BerBandit(mu))\n",
    "    else:\n",
    "      env.append(BetaBandit(mu))\n",
    "\n",
    "  plt.subplot(1, 2, fig + 1)\n",
    "  #plt.subplot(1, 1, 1)\n",
    "\n",
    "  for alg in algs:\n",
    "    alg_class = globals()[alg]\n",
    "    regret_means = []\n",
    "    regret_vars = []\n",
    "    for swap_prob in swap_probs:\n",
    "        regret, _ = evaluate_parallel(alg_class, {\"swap_prob\": swap_prob}, \n",
    "                                      env, n, num_process=14)\n",
    "        cum_regret = regret.sum(axis=0)\n",
    "        regret_means.append(cum_regret.mean())\n",
    "        regret_vars.append(cum_regret.std()/num_runs)\n",
    "        \n",
    "    plt.plot(x_axis, regret_means, colors[alg], dashes=linestyle2dashes('-'), label=alg)\n",
    "    plt.errorbar(x_axis, regret_means, regret_vars, fmt=\"none\", ecolor=colors[alg])\n",
    "    plt.xticks(x_axis, swap_probs_labels)\n",
    "    \n",
    "  if fig == 0:\n",
    "    plt.title(\"Bernoulli bandit\")\n",
    "  else:\n",
    "    plt.title(\"Beta bandit\")\n",
    "    \n",
    "  plt.xlabel(\"swap probability\")\n",
    "  if not fig:\n",
    "    plt.ylabel(\"Regret (average {} runs)\".format(num_runs))\n",
    "\n",
    "  if fig <= 1:\n",
    "    plt.legend(loc=\"upper left\", frameon=False)\n",
    "\n",
    "plt.tight_layout()\n",
    "now = datetime.datetime.now()\n",
    "with open(\"../results/HS_vs_SwapProb_{}_{}_{}_{}.jpeg\" \\\n",
    "          .format(now.month, now.day, now.hour, now.minute), \"wb\") as f:\n",
    "  plt.savefig(f, format=\"jpeg\", dpi=1200, bbox_inches=0)\n",
    "plt.show()"
   ]
  },
  {
   "cell_type": "code",
   "execution_count": null,
   "metadata": {},
   "outputs": [],
   "source": []
  },
  {
   "cell_type": "code",
   "execution_count": null,
   "metadata": {},
   "outputs": [],
   "source": []
  }
 ],
 "metadata": {
  "colab": {
   "collapsed_sections": [],
   "last_runtime": {
    "build_target": "//research/colab/notebook:notebook_backend",
    "kind": "private"
   },
   "name": "PHE.ipynb",
   "provenance": [
    {
     "file_id": "/piper/depot/google3/experimental/users/bkveton/PHE/ICML2019/Giro.ipynb?workspaceId=bkveton:bandits::citc",
     "timestamp": 1550373354024
    },
    {
     "file_id": "/piper/depot/google3/experimental/users/bkveton/PHE/PHE.ipynb?workspaceId=bkveton:custom_colab::citc",
     "timestamp": 1547612018471
    },
    {
     "file_id": "1LhE7RPIsiVHxKVhhQ_ddNwtL78yqsrZi",
     "timestamp": 1546401322558
    },
    {
     "file_id": "1hGOquMsYlCi0_oDMIM_IlidSI7sPWoYF",
     "timestamp": 1536892738296
    },
    {
     "file_id": "11k4kxddvtZjrTYpnuJP549znnEadfMNL",
     "timestamp": 1535848084981
    }
   ]
  },
  "kernelspec": {
   "display_name": "Python 3",
   "language": "python",
   "name": "python3"
  },
  "language_info": {
   "codemirror_mode": {
    "name": "ipython",
    "version": 3
   },
   "file_extension": ".py",
   "mimetype": "text/x-python",
   "name": "python",
   "nbconvert_exporter": "python",
   "pygments_lexer": "ipython3",
   "version": "3.6.10"
  }
 },
 "nbformat": 4,
 "nbformat_minor": 1
}
