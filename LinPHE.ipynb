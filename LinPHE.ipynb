{
 "cells": [
  {
   "cell_type": "code",
   "execution_count": 1,
   "metadata": {
    "cellView": "form",
    "colab": {
     "height": 34
    },
    "colab_type": "code",
    "executionInfo": {
     "elapsed": 11910,
     "status": "ok",
     "timestamp": 1563554785932,
     "user": {
      "displayName": "",
      "photoUrl": "",
      "userId": ""
     },
     "user_tz": 0
    },
    "id": "dUrLMhAcZYDY",
    "outputId": "76c1d084-e533-4d5c-e63a-f4cd6a4d8f5b"
   },
   "outputs": [
    {
     "name": "stdout",
     "output_type": "stream",
     "text": [
      "matplotlib 3.0.2\n"
     ]
    }
   ],
   "source": [
    "from __future__ import absolute_import, division, print_function\n",
    "\n",
    "#@title Imports and defaults\n",
    "%matplotlib inline\n",
    "\n",
    "import itertools\n",
    "import matplotlib as mpl\n",
    "import matplotlib.pyplot as plt\n",
    "import numpy as np\n",
    "import time\n",
    "import os\n",
    "\n",
    "mpl.style.use(\"classic\")\n",
    "mpl.rcParams[\"figure.figsize\"] = [5, 3]\n",
    "\n",
    "mpl.rcParams[\"axes.linewidth\"] = 0.75\n",
    "mpl.rcParams[\"grid.linewidth\"] = 0.75\n",
    "mpl.rcParams[\"lines.linewidth\"] = 0.75\n",
    "mpl.rcParams[\"patch.linewidth\"] = 0.75\n",
    "mpl.rcParams[\"xtick.major.size\"] = 3\n",
    "mpl.rcParams[\"ytick.major.size\"] = 3\n",
    "\n",
    "mpl.rcParams[\"pdf.fonttype\"] = 42\n",
    "mpl.rcParams[\"ps.fonttype\"] = 42\n",
    "mpl.rcParams[\"font.size\"] = 7\n",
    "mpl.rcParams[\"axes.titlesize\"] = \"medium\"\n",
    "mpl.rcParams[\"legend.fontsize\"] = \"medium\"\n",
    "\n",
    "print(\"matplotlib %s\" % mpl.__version__)\n",
    "\n",
    "'''\n",
    "from colabtools import adhoc_import\n",
    "with adhoc_import.Google3CitcClient(\"bandits\", \"bkveton\"):\n",
    "  from google3.experimental.users.bkveton.bandits.simulator import *\n",
    "  from google3.experimental.users.bkveton.bandits.algorithms import *\n",
    "  from google3.experimental.users.bkveton.bandits.phe import *\n",
    "'''\n",
    "\n",
    "from bandits.simulator import *\n",
    "from bandits.algorithms import *\n",
    "from bandits.phe import *\n",
    "\n",
    "def linestyle2dashes(style):\n",
    "  if style == \"--\":\n",
    "    return (3, 3)\n",
    "  elif style == \":\":\n",
    "    return (0.5, 2.5)\n",
    "  else:\n",
    "    return (None, None)"
   ]
  },
  {
   "cell_type": "code",
   "execution_count": 2,
   "metadata": {
    "colab": {
     "height": 306
    },
    "colab_type": "code",
    "executionInfo": {
     "elapsed": 298,
     "status": "ok",
     "timestamp": 1563554786249,
     "user": {
      "displayName": "",
      "photoUrl": "",
      "userId": ""
     },
     "user_tz": 0
    },
    "id": "6MyHa6YdZYDg",
    "outputId": "fb6610ea-7b69-4da5-b2a5-d170a3d4cbb4"
   },
   "outputs": [
    {
     "name": "stdout",
     "output_type": "stream",
     "text": [
      "Bernoulli linear bandit: 3 dimensions, 2 arms\n",
      " E[r] = 0.90 0.10\n",
      "a*(x) = 0\n",
      "    r = 1.00 0.00\n",
      "    r = 0.00 0.00\n",
      "    r = 0.00 0.00\n",
      "    r = 1.00 0.00\n",
      "    r = 1.00 0.00\n",
      "\n",
      "Beta linear bandit: 3 dimensions, 2 arms\n",
      " E[r] = 0.90 0.10\n",
      "a*(x) = 0\n",
      "    r = 0.94 0.00\n",
      "    r = 0.72 0.43\n",
      "    r = 0.89 0.24\n",
      "    r = 0.59 0.06\n",
      "    r = 0.73 0.07\n"
     ]
    }
   ],
   "source": [
    "X = np.asarray([[0.9, 0.1, 1], [0.1, 0.9, 1]])\n",
    "theta = np.asarray([1, 0, 0])\n",
    "\n",
    "env = LinBandit(X, theta, \"bernoulli\")\n",
    "print(env.print())\n",
    "print(\" E[r] = %s\" % \" \".join([\"%.2f\" % val for val in env.mu]))\n",
    "print(\"a*(x) = %d\" % env.best_arm)\n",
    "for trial in range(5):\n",
    "  env.randomize()\n",
    "  print(\"    r = %s\" % \" \".join([\"%.2f\" % val for val in env.rt]))\n",
    "print()\n",
    "\n",
    "env = LinBandit(X, theta, \"beta\")\n",
    "print(env.print())\n",
    "print(\" E[r] = %s\" % \" \".join([\"%.2f\" % val for val in env.mu]))\n",
    "print(\"a*(x) = %d\" % env.best_arm)\n",
    "for trial in range(5):\n",
    "  env.randomize()\n",
    "  print(\"    r = %s\" % \" \".join([\"%.2f\" % val for val in env.rt]))"
   ]
  },
  {
   "cell_type": "code",
   "execution_count": 5,
   "metadata": {
    "cellView": "both",
    "colab": {
     "height": 732
    },
    "colab_type": "code",
    "executionInfo": {
     "elapsed": 7425,
     "status": "ok",
     "timestamp": 1563554793743,
     "user": {
      "displayName": "",
      "photoUrl": "",
      "userId": ""
     },
     "user_tz": 0
    },
    "id": "yI_rP5VL5Ke9",
    "outputId": "7b77e6ff-8b8a-4587-a2cb-dbea389ccfff"
   },
   "outputs": [
    {
     "name": "stdout",
     "output_type": "stream",
     "text": [
      " 17: 0.12 0.95 | Evaluating LinTS. 2.0 seconds\n",
      "Regret: 49.80 +/- 0.00 (median: 49.80, max: 49.80, min: 49.80)\n",
      "Evaluating LinPHE. 1.1 seconds\n",
      "Regret: 78.04 +/- 0.00 (median: 78.04, max: 78.04, min: 78.04)\n",
      "Evaluating LinHistory-Swapping. 0.9 seconds\n",
      "Regret: 66.61 +/- 0.00 (median: 66.61, max: 66.61, min: 66.61)\n",
      "Evaluating LinHistory-Swapping. 0.7 seconds\n",
      "Regret: 84.62 +/- 0.00 (median: 84.62, max: 84.62, min: 84.62)\n",
      " 48: 0.17 0.81 | Evaluating LinTS. 2.2 seconds\n",
      "Regret: 91.81 +/- 0.00 (median: 91.81, max: 91.81, min: 91.81)\n",
      "Evaluating LinPHE. 1.2 seconds\n",
      "Regret: 94.39 +/- 0.00 (median: 94.39, max: 94.39, min: 94.39)\n",
      "Evaluating LinHistory-Swapping. 1.1 seconds\n",
      "Regret: 44.73 +/- 0.00 (median: 44.73, max: 44.73, min: 44.73)\n",
      "Evaluating LinHistory-Swapping. 0.7 seconds\n",
      "Regret: 109.65 +/- 0.00 (median: 109.65, max: 109.65, min: 109.65)\n",
      "  7: 0.25 0.75 | Evaluating LinTS. 3.6 seconds\n",
      "Regret: 306.26 +/- 0.00 (median: 306.26, max: 306.26, min: 306.26)\n",
      "Evaluating LinPHE. 1.6 seconds\n",
      "Regret: 152.13 +/- 0.00 (median: 152.13, max: 152.13, min: 152.13)\n",
      "Evaluating LinHistory-Swapping. 1.2 seconds\n",
      "Regret: 131.81 +/- 0.00 (median: 131.81, max: 131.81, min: 131.81)\n",
      "Evaluating LinHistory-Swapping. 1.0 seconds\n",
      "Regret: 478.39 +/- 0.00 (median: 478.39, max: 478.39, min: 478.39)\n"
     ]
    },
    {
     "data": {
      "image/png": "[encoded data removed]",
      "text/plain": [
       "<Figure size 600x160 with 3 Axes>"
      ]
     },
     "metadata": {},
     "output_type": "display_data"
    }
   ],
   "source": [
    "import datetime\n",
    "\n",
    "current_dir = \"./data\"\n",
    "reward_noise = \"normal\"\n",
    "\n",
    "algs = [\n",
    "  #(\"LinUCB\", {}, \"cyan\", \"-\", \"LinUCB\"),\n",
    "  (\"LinTS\", {}, \"gray\", \"-\", \"LinTS\"),\n",
    "  #(\"LinGreedy\", {}, \"blue\", \"-\", \"$\\\\varepsilon$-greedy\"),\n",
    "  #(\"LinPHE\", {\"a\": 2}, \"red\", \"-\", \"LinPHE (a = 2)\"),\n",
    "  #(\"LinPHE\", {\"a\": 1}, \"darkorange\", \"-\", \"LinPHE (a = 1)\"),\n",
    "  (\"LinPHE\", {\"a\": 0.5}, \"gold\", \"-\", \"LinPHE (a = 0.5)\"),\n",
    "  #(\"LinHistorySwap\", {\"swap_prob\": 0.2, \"swap_top\": -1}, \"black\", \"-\", \"LinHS (swap_prob=0.2, swap_top=-1)\"),\n",
    "  (\"LinHistorySwap\", {\"swap_prob\": 0.05, \"swap_top\": -1}, \"black\", \"-\", \"LinHS (swap_prob=0.05)\"),\n",
    "  (\"LinHistorySwap\", {\"swap_prob\": 0., \"swap_top\": -1}, \"darkorange\", \"-\", \"LinHS (swap_prob=0.)\"),\n",
    "  # (\"LinHistorySwap\", {\"swap_prob\": 0.1, \"swap_top\": -1}, \"green\", \"-\", \"LinHS (swap_prob=0.1)\"),\n",
    "  # (\"LinHistorySwap\", {\"swap_prob\": 0.12, \"swap_top\": -1}, \"blue\", \"-\", \"LinHS (swap_prob=0.12)\"),\n",
    "]\n",
    "num_runs = 1\n",
    "n = 10000\n",
    "K = 50\n",
    "\n",
    "step = np.arange(1, n + 1)\n",
    "sube = (step.size // 10) * np.arange(1, 11) - 1\n",
    "\n",
    "plt.figure(figsize=(7.5, 2))\n",
    "for fig in range(3):\n",
    "  if fig == 0:\n",
    "    d = 5\n",
    "  elif fig == 1:\n",
    "    d = 10\n",
    "  else:\n",
    "    d = 20\n",
    "\n",
    "  env = []\n",
    "  for run in range(num_runs):\n",
    "    # standard d-dimensional basis (with a bias term)\n",
    "    basis = np.eye(d)\n",
    "    basis[:, -1] = 1\n",
    "\n",
    "    # arm features in a unit (d - 2)-sphere\n",
    "    X = np.random.randn(K, d - 1)\n",
    "    X /= np.sqrt(np.square(X).sum(axis=1))[:, np.newaxis]\n",
    "    X = np.hstack((X, np.ones((K, 1))))  # bias term\n",
    "    X[: basis.shape[0], :] = basis\n",
    "\n",
    "    # parameter vector in a (d - 2)-sphere with radius 0.5\n",
    "    theta = np.random.randn(d - 1)\n",
    "    theta *= 0.5 / np.sqrt(np.square(theta).sum())\n",
    "    theta = np.append(theta, [0.5])\n",
    "\n",
    "    # create environment\n",
    "    env.append(LinBandit(X, theta, reward_noise))\n",
    "    print(\"%3d: %.2f %.2f | \" % (env[-1].best_arm,\n",
    "      env[-1].mu.min(), env[-1].mu.max()), end=\"\")\n",
    "    if (run + 1) % 10 == 0:\n",
    "      print()\n",
    "\n",
    "  plt.subplot(1, 3, fig + 1)\n",
    "  # plt.subplot(1, 1, 1)\n",
    "  alg_num = 0\n",
    "  for alg in algs:\n",
    "    alg_class = eval(alg[0])\n",
    "\n",
    "#     fname = \"%s/lin_d=%d_%d_%s.npy\" % \\\n",
    "#       (current_dir, d, alg_num, alg[0].lower())\n",
    "#     if not os.path.exists(fname):\n",
    "#       regret, _ = evaluate(alg_class, alg[1], env, n)\n",
    "#       with open(fname, \"wb\") as f:\n",
    "#         np.save(f, regret)\n",
    "#     with open(fname, \"rb\") as f:\n",
    "#       regret = np.load(f)\n",
    "\n",
    "    regret, _ = evaluate(alg_class, alg[1], env, n)\n",
    "\n",
    "    cum_regret = regret.cumsum(axis=0)\n",
    "    std_regret = cum_regret.std(axis=1) / np.sqrt(cum_regret.shape[1])\n",
    "    plt.plot(step, cum_regret.mean(axis=1),\n",
    "      alg[2], dashes=linestyle2dashes(alg[3]),\n",
    "      label=alg[4] if alg_num // 3 == fig else None)\n",
    "    plt.fill_between(step,\n",
    "      cum_regret.mean(axis=1) - std_regret,\n",
    "      cum_regret.mean(axis=1) + std_regret,\n",
    "      color=alg[2], alpha=0.1, linewidth=0)\n",
    "\n",
    "    alg_num += 1\n",
    "\n",
    "  plt.title(\"d = %d\" % d)\n",
    "  plt.xlabel(\"Round n\")\n",
    "  if not fig:\n",
    "    plt.ylabel(\"Regret\")\n",
    "  #plt.ylim(0, 500 - 100 * (2 - fig))\n",
    "  if fig <= 1:\n",
    "    plt.legend(loc=\"upper left\", frameon=False)\n",
    "\n",
    "plt.tight_layout()\n",
    "# with gfile.Open(\"%s/LinPHE.pdf\" % root_dir, \"w\") as f:\n",
    "#   plt.savefig(f, format=\"pdf\", dpi=1200, bbox_inches=0)\n",
    "now = datetime.datetime.now()\n",
    "with open(\"results/Lin_PHE_HS_{}_{}_{}.pdf\".format(reward_noise, now.hour, now.minute), \"wb\") as f:\n",
    "  plt.savefig(f, format=\"pdf\", dpi=1200, bbox_inches=0)\n",
    "plt.show()"
   ]
  },
  {
   "cell_type": "code",
   "execution_count": null,
   "metadata": {},
   "outputs": [],
   "source": []
  },
  {
   "cell_type": "code",
   "execution_count": null,
   "metadata": {},
   "outputs": [],
   "source": []
  }
 ],
 "metadata": {
  "colab": {
   "collapsed_sections": [],
   "last_runtime": {
    "build_target": "//research/colab/notebook:notebook_backend",
    "kind": "private"
   },
   "name": "LinPHE.ipynb",
   "provenance": [
    {
     "file_id": "/piper/depot/google3/experimental/users/bkveton/PHE/LinPHE.ipynb?workspaceId=bkveton:bandits::citc",
     "timestamp": 1551499731146
    },
    {
     "file_id": "1tDjLRLsjR0h7AGAXwuF1FvrdylfiMRYV",
     "timestamp": 1545173695315
    },
    {
     "file_id": "1nH2KirlUdRSICZfpn0XrH2CBOqIL6brP",
     "timestamp": 1541137118545
    },
    {
     "file_id": "1LhE7RPIsiVHxKVhhQ_ddNwtL78yqsrZi",
     "timestamp": 1537332805316
    },
    {
     "file_id": "1hGOquMsYlCi0_oDMIM_IlidSI7sPWoYF",
     "timestamp": 1536892738296
    },
    {
     "file_id": "11k4kxddvtZjrTYpnuJP549znnEadfMNL",
     "timestamp": 1535848084981
    }
   ]
  },
  "kernelspec": {
   "display_name": "Python 3",
   "language": "python",
   "name": "python3"
  },
  "language_info": {
   "codemirror_mode": {
    "name": "ipython",
    "version": 3
   },
   "file_extension": ".py",
   "mimetype": "text/x-python",
   "name": "python",
   "nbconvert_exporter": "python",
   "pygments_lexer": "ipython3",
   "version": "3.6.10"
  }
 },
 "nbformat": 4,
 "nbformat_minor": 1
}
