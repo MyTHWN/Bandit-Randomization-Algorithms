{
 "cells": [
  {
   "cell_type": "code",
   "execution_count": 1,
   "metadata": {
    "cellView": "form",
    "colab": {
     "height": 34
    },
    "colab_type": "code",
    "executionInfo": {
     "elapsed": 11910,
     "status": "ok",
     "timestamp": 1563554785932,
     "user": {
      "displayName": "",
      "photoUrl": "",
      "userId": ""
     },
     "user_tz": 0
    },
    "id": "dUrLMhAcZYDY",
    "outputId": "76c1d084-e533-4d5c-e63a-f4cd6a4d8f5b"
   },
   "outputs": [
    {
     "name": "stdout",
     "output_type": "stream",
     "text": [
      "matplotlib 3.0.2\n"
     ]
    }
   ],
   "source": [
    "from __future__ import absolute_import, division, print_function\n",
    "\n",
    "#@title Imports and defaults\n",
    "%matplotlib inline\n",
    "\n",
    "import itertools\n",
    "import matplotlib as mpl\n",
    "import matplotlib.pyplot as plt\n",
    "import numpy as np\n",
    "import time\n",
    "import os\n",
    "\n",
    "mpl.style.use(\"classic\")\n",
    "mpl.rcParams[\"figure.figsize\"] = [5, 3]\n",
    "\n",
    "mpl.rcParams[\"axes.linewidth\"] = 0.75\n",
    "mpl.rcParams[\"grid.linewidth\"] = 0.75\n",
    "mpl.rcParams[\"lines.linewidth\"] = 0.75\n",
    "mpl.rcParams[\"patch.linewidth\"] = 0.75\n",
    "mpl.rcParams[\"xtick.major.size\"] = 3\n",
    "mpl.rcParams[\"ytick.major.size\"] = 3\n",
    "\n",
    "mpl.rcParams[\"pdf.fonttype\"] = 42\n",
    "mpl.rcParams[\"ps.fonttype\"] = 42\n",
    "mpl.rcParams[\"font.size\"] = 7\n",
    "mpl.rcParams[\"axes.titlesize\"] = \"medium\"\n",
    "mpl.rcParams[\"legend.fontsize\"] = \"medium\"\n",
    "\n",
    "print(\"matplotlib %s\" % mpl.__version__)\n",
    "\n",
    "from bandits.simulator import *\n",
    "from bandits.algorithms import *\n",
    "from bandits.phe import *\n",
    "from bandits.dropout import *\n",
    "\n",
    "def linestyle2dashes(style):\n",
    "  if style == \"--\":\n",
    "    return (3, 3)\n",
    "  elif style == \":\":\n",
    "    return (0.5, 2.5)\n",
    "  else:\n",
    "    return (None, None)"
   ]
  },
  {
   "cell_type": "code",
   "execution_count": 2,
   "metadata": {
    "colab": {
     "height": 306
    },
    "colab_type": "code",
    "executionInfo": {
     "elapsed": 298,
     "status": "ok",
     "timestamp": 1563554786249,
     "user": {
      "displayName": "",
      "photoUrl": "",
      "userId": ""
     },
     "user_tz": 0
    },
    "id": "6MyHa6YdZYDg",
    "outputId": "fb6610ea-7b69-4da5-b2a5-d170a3d4cbb4"
   },
   "outputs": [
    {
     "name": "stdout",
     "output_type": "stream",
     "text": [
      "Bernoulli linear bandit: 3 dimensions, 2 arms\n",
      " E[r] = 0.90 0.10\n",
      "a*(x) = 0\n",
      "    r = 1.00 0.00\n",
      "    r = 1.00 0.00\n",
      "    r = 1.00 0.00\n",
      "    r = 1.00 0.00\n",
      "    r = 0.00 0.00\n",
      "\n",
      "Beta linear bandit: 3 dimensions, 2 arms\n",
      " E[r] = 0.90 0.10\n",
      "a*(x) = 0\n",
      "    r = 0.97 0.00\n",
      "    r = 0.91 0.00\n",
      "    r = 0.98 0.03\n",
      "    r = 0.98 0.01\n",
      "    r = 1.00 0.29\n"
     ]
    }
   ],
   "source": [
    "X = np.asarray([[0.9, 0.1, 1], [0.1, 0.9, 1]])\n",
    "theta = np.asarray([1, 0, 0])\n",
    "\n",
    "env = LinBandit(X, theta, \"bernoulli\")\n",
    "print(env.print())\n",
    "print(\" E[r] = %s\" % \" \".join([\"%.2f\" % val for val in env.mu]))\n",
    "print(\"a*(x) = %d\" % env.best_arm)\n",
    "for trial in range(5):\n",
    "  env.randomize()\n",
    "  print(\"    r = %s\" % \" \".join([\"%.2f\" % val for val in env.rt]))\n",
    "print()\n",
    "\n",
    "env = LinBandit(X, theta, \"beta\")\n",
    "print(env.print())\n",
    "print(\" E[r] = %s\" % \" \".join([\"%.2f\" % val for val in env.mu]))\n",
    "print(\"a*(x) = %d\" % env.best_arm)\n",
    "for trial in range(5):\n",
    "  env.randomize()\n",
    "  print(\"    r = %s\" % \" \".join([\"%.2f\" % val for val in env.rt]))"
   ]
  },
  {
   "cell_type": "code",
   "execution_count": null,
   "metadata": {
    "cellView": "both",
    "colab": {
     "height": 732
    },
    "colab_type": "code",
    "executionInfo": {
     "elapsed": 7425,
     "status": "ok",
     "timestamp": 1563554793743,
     "user": {
      "displayName": "",
      "photoUrl": "",
      "userId": ""
     },
     "user_tz": 0
    },
    "id": "yI_rP5VL5Ke9",
    "outputId": "7b77e6ff-8b8a-4587-a2cb-dbea389ccfff"
   },
   "outputs": [],
   "source": [
    "import datetime\n",
    "\n",
    "current_dir = \"./data\"\n",
    "reward_noise = \"normal\"\n",
    "\n",
    "algs = [\n",
    "  #(\"LinUCB\", {}, \"cyan\", \"-\", \"LinUCB\"),\n",
    "  (\"LinTS\", {}, \"gray\", \"-\", \"LinTS\"),\n",
    "  #(\"LinGreedy\", {}, \"blue\", \"-\", \"$\\\\varepsilon$-greedy\"),\n",
    "  #(\"LinPHE\", {\"a\": 2}, \"red\", \"-\", \"LinPHE (a = 2)\"),\n",
    "  #(\"LinPHE\", {\"a\": 1}, \"darkorange\", \"-\", \"LinPHE (a = 1)\"),\n",
    "  (\"LinPHE\", {\"a\": 0.5}, \"gold\", \"-\", \"LinPHE (a = 0.5)\"),\n",
    "  #(\"LinHistorySwap\", {\"swap_prob\": 0.2, \"swap_top\": -1}, \"black\", \"-\", \"LinHS (swap_prob=0.2, swap_top=-1)\"),\n",
    "  (\"LinHistorySwap\", {\"swap_prob\": 0.05, \"swap_top\": -1}, \"black\", \"-\", \"LinHS (swap_prob=0.05)\"),\n",
    "  (\"LinHistorySwap\", {\"swap_prob\": 0., \"swap_top\": -1}, \"darkorange\", \"-\", \"LinHS (swap_prob=0.)\"),\n",
    "  # (\"LinHistorySwap\", {\"swap_prob\": 0.1, \"swap_top\": -1}, \"green\", \"-\", \"LinHS (swap_prob=0.1)\"),\n",
    "  # (\"LinHistorySwap\", {\"swap_prob\": 0.12, \"swap_top\": -1}, \"blue\", \"-\", \"LinHS (swap_prob=0.12)\"),\n",
    "]\n",
    "num_runs = 10\n",
    "n = 10000\n",
    "K = 50\n",
    "\n",
    "step = np.arange(1, n + 1)\n",
    "sube = (step.size // 10) * np.arange(1, 11) - 1\n",
    "\n",
    "plt.figure(figsize=(7.5, 2))\n",
    "for fig in range(3):\n",
    "  if fig == 0:\n",
    "    d = 5\n",
    "  elif fig == 1:\n",
    "    d = 10\n",
    "  else:\n",
    "    d = 20\n",
    "\n",
    "  env = []\n",
    "  for run in range(num_runs):\n",
    "    # standard d-dimensional basis (with a bias term)\n",
    "    basis = np.eye(d)\n",
    "    basis[:, -1] = 1\n",
    "\n",
    "    # arm features in a unit (d - 2)-sphere\n",
    "    X = np.random.randn(K, d - 1)\n",
    "    X /= np.sqrt(np.square(X).sum(axis=1))[:, np.newaxis]\n",
    "    X = np.hstack((X, np.ones((K, 1))))  # bias term\n",
    "    X[: basis.shape[0], :] = basis\n",
    "\n",
    "    # parameter vector in a (d - 2)-sphere with radius 0.5\n",
    "    theta = np.random.randn(d - 1)\n",
    "    theta *= 0.5 / np.sqrt(np.square(theta).sum())\n",
    "    theta = np.append(theta, [0.5])\n",
    "\n",
    "    # create environment\n",
    "    env.append(LinBandit(X, theta, reward_noise))\n",
    "    print(\"%3d: %.2f %.2f | \" % (env[-1].best_arm,\n",
    "      env[-1].mu.min(), env[-1].mu.max()), end=\"\")\n",
    "    if (run + 1) % 10 == 0:\n",
    "      print()\n",
    "\n",
    "  plt.subplot(1, 3, fig + 1)\n",
    "  # plt.subplot(1, 1, 1)\n",
    "  alg_num = 0\n",
    "  for alg in algs:\n",
    "    alg_class = eval(alg[0])\n",
    "\n",
    "#     fname = \"%s/lin_d=%d_%d_%s.npy\" % \\\n",
    "#       (current_dir, d, alg_num, alg[0].lower())\n",
    "#     if not os.path.exists(fname):\n",
    "#       regret, _ = evaluate(alg_class, alg[1], env, n)\n",
    "#       with open(fname, \"wb\") as f:\n",
    "#         np.save(f, regret)\n",
    "#     with open(fname, \"rb\") as f:\n",
    "#       regret = np.load(f)\n",
    "\n",
    "    regret, _ = evaluate(alg_class, alg[1], env, n)\n",
    "\n",
    "    cum_regret = regret.cumsum(axis=0)\n",
    "    std_regret = cum_regret.std(axis=1) / np.sqrt(cum_regret.shape[1])\n",
    "    plt.plot(step, cum_regret.mean(axis=1),\n",
    "      alg[2], dashes=linestyle2dashes(alg[3]),\n",
    "      label=alg[4] if alg_num // 3 == fig else None)\n",
    "    plt.fill_between(step,\n",
    "      cum_regret.mean(axis=1) - std_regret,\n",
    "      cum_regret.mean(axis=1) + std_regret,\n",
    "      color=alg[2], alpha=0.1, linewidth=0)\n",
    "\n",
    "    alg_num += 1\n",
    "\n",
    "  plt.title(\"d = %d\" % d)\n",
    "  plt.xlabel(\"Round n\")\n",
    "  if not fig:\n",
    "    plt.ylabel(\"Regret\")\n",
    "  #plt.ylim(0, 500 - 100 * (2 - fig))\n",
    "  if fig <= 1:\n",
    "    plt.legend(loc=\"upper left\", frameon=False)\n",
    "\n",
    "plt.tight_layout()\n",
    "# with gfile.Open(\"%s/LinPHE.pdf\" % root_dir, \"w\") as f:\n",
    "#   plt.savefig(f, format=\"pdf\", dpi=1200, bbox_inches=0)\n",
    "now = datetime.datetime.now()\n",
    "with open(\"results/Lin_PHE_HS_{}_{}_{}.pdf\".format(reward_noise, now.hour, now.minute), \"wb\") as f:\n",
    "  plt.savefig(f, format=\"pdf\", dpi=1200, bbox_inches=0)\n",
    "plt.show()"
   ]
  },
  {
   "cell_type": "code",
   "execution_count": 8,
   "metadata": {},
   "outputs": [
    {
     "name": "stdout",
     "output_type": "stream",
     "text": [
      " 19: 0.05 0.92 |  27: 0.13 0.98 |  39: 0.08 0.98 |   5: 0.05 0.95 |   5: 0.01 0.99 |  34: 0.02 0.95 |  36: 0.01 0.96 |  17: 0.06 0.99 |   2: 0.06 0.96 |  26: 0.03 0.97 | \n",
      " 22: 0.08 0.96 |  33: 0.00 0.97 |   2: 0.07 0.90 |  40: 0.03 0.98 |  46: 0.01 0.96 |  34: 0.02 0.95 |  49: 0.07 0.97 |  28: 0.00 0.97 |  17: 0.09 0.92 |  41: 0.04 0.92 | \n",
      " 13: 0.03 0.94 |  28: 0.05 0.92 |  41: 0.01 0.98 |  36: 0.05 0.96 |   7: 0.01 0.95 |  22: 0.03 0.95 |  11: 0.07 0.98 |  33: 0.01 0.98 |  45: 0.04 0.96 |  48: 0.04 0.97 | \n",
      " 49: 0.03 0.96 |  12: 0.06 0.93 |  49: 0.04 0.98 |  37: 0.02 0.90 |  22: 0.04 0.97 |   3: 0.01 0.85 |  18: 0.06 0.95 |   1: 0.01 0.92 |  14: 0.02 0.93 |  31: 0.03 0.96 | \n",
      "  7: 0.06 0.96 |  44: 0.02 0.96 |  24: 0.06 0.96 |   8: 0.13 0.91 |   9: 0.02 0.96 |  12: 0.03 0.93 |  38: 0.02 0.92 |   9: 0.03 0.97 |  26: 0.03 0.97 |  35: 0.01 0.94 | \n",
      "Evaluating Lin e-greedy.................................................. 87.9 seconds\n",
      "Regret: 469.90 +/- 7.83 (median: 470.00, max: 678.00, min: 367.00)\n",
      "Evaluating Lin Dropout Exploration.................................................. 105.9 seconds\n",
      "Regret: 311.34 +/- 47.72 (median: 187.50, max: 1725.00, min: 67.00)\n",
      "Evaluating Lin Dropout Exploration.................................................. 94.5 seconds\n",
      "Regret: 118.88 +/- 16.49 (median: 83.50, max: 802.00, min: 3.00)\n",
      " 31: 0.16 0.79 |   7: 0.16 0.81 |  42: 0.16 0.79 |   6: 0.22 0.91 |  46: 0.14 0.80 |  28: 0.13 0.83 |  14: 0.15 0.90 |  31: 0.31 0.91 |  30: 0.18 0.82 |  19: 0.12 0.87 | \n",
      "  2: 0.23 0.83 |  16: 0.06 0.90 |  29: 0.10 0.86 |  36: 0.10 0.87 |  14: 0.15 0.68 |  44: 0.10 0.79 |  44: 0.17 0.87 |  38: 0.15 0.90 |  18: 0.19 0.83 |   0: 0.15 0.85 | \n",
      " 33: 0.11 0.84 |  49: 0.10 0.80 |  19: 0.13 0.89 |  31: 0.16 0.88 |   4: 0.13 0.78 |  38: 0.13 0.83 |  15: 0.15 0.80 |  43: 0.15 0.82 |  32: 0.04 0.80 |  28: 0.13 0.91 | \n",
      " 18: 0.22 0.90 |  30: 0.09 0.88 |  42: 0.17 0.76 |  26: 0.09 0.92 |  12: 0.14 0.76 |   4: 0.13 0.83 |  43: 0.12 0.91 |  23: 0.10 0.84 |  35: 0.13 0.89 |  48: 0.22 0.83 | \n",
      "  2: 0.10 0.80 |  11: 0.14 0.81 |  37: 0.15 0.84 |  31: 0.16 0.86 |  15: 0.09 0.85 |  41: 0.10 0.86 |  10: 0.19 0.95 |  30: 0.12 0.85 |  37: 0.08 0.80 |  41: 0.20 0.82 | \n",
      "Evaluating Lin e-greedy.................................................. 76.2 seconds\n",
      "Regret: 411.50 +/- 17.23 (median: 391.50, max: 953.00, min: 212.00)\n",
      "Evaluating Lin Dropout Exploration.................................................. 89.2 seconds\n",
      "Regret: 381.42 +/- 75.91 (median: 141.50, max: 2094.00, min: 42.00)\n",
      "Evaluating Lin Dropout Exploration................................................."
     ]
    },
    {
     "name": "stderr",
     "output_type": "stream",
     "text": [
      "No handles with labels found to put in legend.\n"
     ]
    },
    {
     "name": "stdout",
     "output_type": "stream",
     "text": [
      ". 82.3 seconds\n",
      "Regret: 562.58 +/- 130.49 (median: 102.00, max: 3798.00, min: 17.00)\n",
      " 47: 0.30 0.69 |  39: 0.27 0.75 |  38: 0.25 0.72 |  15: 0.32 0.81 |  25: 0.20 0.76 |  16: 0.27 0.73 |  38: 0.29 0.77 |  15: 0.26 0.69 |   7: 0.25 0.73 |  11: 0.28 0.79 | \n",
      " 32: 0.32 0.85 |  27: 0.14 0.70 |  14: 0.20 0.76 |  26: 0.30 0.73 |  25: 0.26 0.81 |  12: 0.22 0.68 |   2: 0.26 0.79 |  21: 0.30 0.69 |  24: 0.20 0.80 |  22: 0.25 0.72 | \n",
      " 15: 0.21 0.70 |   3: 0.25 0.77 |  24: 0.27 0.71 |  13: 0.24 0.80 |   0: 0.30 0.73 |  10: 0.22 0.73 |  41: 0.25 0.77 |   1: 0.26 0.79 |  27: 0.24 0.79 |  12: 0.26 0.84 | \n",
      " 18: 0.22 0.72 |  14: 0.28 0.76 |  32: 0.33 0.78 |  24: 0.28 0.69 |  17: 0.28 0.76 |  36: 0.25 0.76 |  35: 0.25 0.74 |  44: 0.18 0.80 |   3: 0.25 0.67 |  23: 0.27 0.78 | \n",
      "  0: 0.27 0.80 |  44: 0.29 0.73 |   7: 0.31 0.87 |  29: 0.28 0.69 |  22: 0.18 0.71 |  42: 0.30 0.71 |  40: 0.29 0.75 |  49: 0.26 0.81 |  45: 0.28 0.78 |  20: 0.22 0.72 | \n",
      "Evaluating Lin e-greedy.................................................. 105.9 seconds\n",
      "Regret: 502.94 +/- 51.25 (median: 331.00, max: 1490.00, min: 132.00)\n",
      "Evaluating Lin Dropout Exploration.................................................. 129.3 seconds\n",
      "Regret: 746.94 +/- 118.26 (median: 398.50, max: 3269.00, min: 38.00)\n",
      "Evaluating Lin Dropout Exploration.................................................. 133.8 seconds\n",
      "Regret: 813.18 +/- 142.27 (median: 205.50, max: 3674.00, min: 8.00)\n"
     ]
    },
    {
     "data": {
      "image/png": "[encoded data removed]",
      "text/plain": [
       "<Figure size 600x160 with 3 Axes>"
      ]
     },
     "metadata": {},
     "output_type": "display_data"
    }
   ],
   "source": [
    "import datetime\n",
    "\n",
    "current_dir = \"./data\"\n",
    "reward_noise = \"bernoulli\"\n",
    "\n",
    "algs = [\n",
    "  #(\"LinUCB\", {}, \"cyan\", \"-\", \"LinUCB\"),\n",
    "  #(\"LinTS\", {}, \"gray\", \"-\", \"LinTS\"),\n",
    "  (\"LinGreedy\", {}, \"black\", \"-\", \"$\\\\varepsilon$-greedy\"),\n",
    "  #(\"LinPHE\", {\"a\": 2}, \"red\", \"-\", \"LinPHE (a = 2)\"),\n",
    "  #(\"LinPHE\", {\"a\": 1}, \"darkorange\", \"-\", \"LinPHE (a = 1)\"),\n",
    "  #(\"LinPHE\", {\"a\": 0.5}, \"gold\", \"-\", \"LinPHE (a = 0.5)\"),\n",
    "  #(\"LinHistorySwap\", {\"swap_prob\": 0.1, \"swap_top\": -1}, \"black\", \"-\", \"LinHS (swap_prob=0.1, swap_top=-1)\"),\n",
    "  # (\"LinHistorySwap\", {\"swap_prob\": 0., \"swap_top\": -1}, \"black\", \"-\", \"LinHS (swap_prob=0.)\"),\n",
    "  (\"LinDropout\", {\"drop_prob\": 0.5}, \"cyan\", \"-\", \"LinDropout (drop_prob=0.5)\"),\n",
    "  (\"LinDropout\", {\"drop_prob\": 0.2}, \"blue\", \"-\", \"LinDropout (drop_prob=0.2)\"),\n",
    "  #(\"LinDropout\", {\"drop_prob\": 0.15}, \"red\", \"-\", \"LinDropout (drop_prob=0.15)\"),\n",
    "  # (\"LinDropout\", {\"drop_prob\": 0.}, \"blue\", \"-\", \"LinDropout (drop_prob=0.)\"),\n",
    "  # (\"LinDropout_gradient\", {\"drop_prob\": 0.05, \"lr\": 0.1}, \"red\", \"-\", \"LinDropout (drop_prob=0.05)\"),\n",
    "  # (\"LinDropout_gradient\", {\"drop_prob\": 0.1, \"lr\": 0.1}, \"darkgreen\", \"-\", \"LinDropout (drop_prob=0.1)\"),\n",
    "]\n",
    "\n",
    "num_runs = 50\n",
    "n = 20000\n",
    "K = 50\n",
    "\n",
    "step = np.arange(1, n + 1)\n",
    "sube = (step.size // 10) * np.arange(1, 11) - 1\n",
    "\n",
    "plt.figure(figsize=(7.5, 2))\n",
    "for fig in range(3):\n",
    "  if fig == 0:\n",
    "    d = 5\n",
    "  elif fig == 1:\n",
    "    d = 10\n",
    "  else:\n",
    "    d = 20\n",
    "\n",
    "  env = []\n",
    "  for run in range(num_runs):\n",
    "    # standard d-dimensional basis (with a bias term)\n",
    "    basis = np.eye(d)\n",
    "    basis[:, -1] = 1\n",
    "\n",
    "    # arm features in a unit (d - 2)-sphere\n",
    "    X = np.random.randn(K, d - 1)\n",
    "    X /= np.sqrt(np.square(X).sum(axis=1))[:, np.newaxis]\n",
    "    X = np.hstack((X, np.ones((K, 1))))  # bias term\n",
    "    X[: basis.shape[0], :] = basis\n",
    "\n",
    "    # parameter vector in a (d - 2)-sphere with radius 0.5\n",
    "    theta = np.random.randn(d - 1)\n",
    "    theta *= 0.5 / np.sqrt(np.square(theta).sum())\n",
    "    theta = np.append(theta, [0.5])\n",
    "\n",
    "    # create environment\n",
    "    env.append(LinBandit(X, theta, reward_noise))\n",
    "    print(\"%3d: %.2f %.2f | \" % (env[-1].best_arm,\n",
    "      env[-1].mu.min(), env[-1].mu.max()), end=\"\")\n",
    "    if (run + 1) % 10 == 0:\n",
    "      print()\n",
    "\n",
    "  plt.subplot(1, 3, fig + 1)\n",
    "  #plt.subplot(1, 1, 1)\n",
    "  alg_num = 0\n",
    "  for alg in algs:\n",
    "    alg_class = eval(alg[0])\n",
    "\n",
    "#     fname = \"%s/lin_d=%d_%d_%s.npy\" % \\\n",
    "#       (current_dir, d, alg_num, alg[0].lower())\n",
    "#     if not os.path.exists(fname):\n",
    "#       regret, _ = evaluate(alg_class, alg[1], env, n)\n",
    "#       with open(fname, \"wb\") as f:\n",
    "#         np.save(f, regret)\n",
    "#     with open(fname, \"rb\") as f:\n",
    "#       regret = np.load(f)\n",
    "\n",
    "    regret, _ = evaluate(alg_class, alg[1], env, n)\n",
    "\n",
    "    cum_regret = regret.cumsum(axis=0)\n",
    "    std_regret = cum_regret.std(axis=1) / np.sqrt(cum_regret.shape[1])\n",
    "    plt.plot(step, cum_regret.mean(axis=1),\n",
    "      alg[2], dashes=linestyle2dashes(alg[3]),\n",
    "      label=alg[4] if alg_num // 3 == fig else None)\n",
    "    plt.fill_between(step,\n",
    "      cum_regret.mean(axis=1) - std_regret,\n",
    "      cum_regret.mean(axis=1) + std_regret,\n",
    "      color=alg[2], alpha=0.1, linewidth=0)\n",
    "\n",
    "    alg_num += 1\n",
    "\n",
    "  plt.title(\"d = %d\" % d)\n",
    "  plt.xlabel(\"Round n\")\n",
    "  if not fig:\n",
    "    plt.ylabel(\"Regret\")\n",
    "  #plt.ylim(0, 500 - 100 * (2 - fig))\n",
    "  if fig <= 1:\n",
    "    plt.legend(loc=\"upper left\", frameon=False)\n",
    "\n",
    "plt.tight_layout()\n",
    "# with gfile.Open(\"%s/LinPHE.pdf\" % root_dir, \"w\") as f:\n",
    "#   plt.savefig(f, format=\"pdf\", dpi=1200, bbox_inches=0)\n",
    "now = datetime.datetime.now()\n",
    "with open(\"results/Lin_Dropout_{}_{}_{}.jpeg\".format(reward_noise, now.hour, now.minute), \"wb\") as f:\n",
    "  plt.savefig(f, format=\"jpeg\", dpi=1200, bbox_inches=0)\n",
    "plt.show()"
   ]
  },
  {
   "cell_type": "code",
   "execution_count": null,
   "metadata": {},
   "outputs": [],
   "source": []
  },
  {
   "cell_type": "code",
   "execution_count": null,
   "metadata": {},
   "outputs": [],
   "source": []
  }
 ],
 "metadata": {
  "colab": {
   "collapsed_sections": [],
   "last_runtime": {
    "build_target": "//research/colab/notebook:notebook_backend",
    "kind": "private"
   },
   "name": "LinPHE.ipynb",
   "provenance": [
    {
     "file_id": "/piper/depot/google3/experimental/users/bkveton/PHE/LinPHE.ipynb?workspaceId=bkveton:bandits::citc",
     "timestamp": 1551499731146
    },
    {
     "file_id": "1tDjLRLsjR0h7AGAXwuF1FvrdylfiMRYV",
     "timestamp": 1545173695315
    },
    {
     "file_id": "1nH2KirlUdRSICZfpn0XrH2CBOqIL6brP",
     "timestamp": 1541137118545
    },
    {
     "file_id": "1LhE7RPIsiVHxKVhhQ_ddNwtL78yqsrZi",
     "timestamp": 1537332805316
    },
    {
     "file_id": "1hGOquMsYlCi0_oDMIM_IlidSI7sPWoYF",
     "timestamp": 1536892738296
    },
    {
     "file_id": "11k4kxddvtZjrTYpnuJP549znnEadfMNL",
     "timestamp": 1535848084981
    }
   ]
  },
  "kernelspec": {
   "display_name": "Python 3",
   "language": "python",
   "name": "python3"
  },
  "language_info": {
   "codemirror_mode": {
    "name": "ipython",
    "version": 3
   },
   "file_extension": ".py",
   "mimetype": "text/x-python",
   "name": "python",
   "nbconvert_exporter": "python",
   "pygments_lexer": "ipython3",
   "version": "3.6.10"
  }
 },
 "nbformat": 4,
 "nbformat_minor": 1
}
