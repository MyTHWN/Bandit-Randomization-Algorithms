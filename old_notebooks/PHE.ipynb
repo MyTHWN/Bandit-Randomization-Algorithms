{
 "cells": [
  {
   "cell_type": "code",
   "execution_count": 1,
   "metadata": {
    "cellView": "form",
    "colab": {
     "height": 34
    },
    "colab_type": "code",
    "executionInfo": {
     "elapsed": 13691,
     "status": "ok",
     "timestamp": 1559316772873,
     "user": {
      "displayName": "",
      "photoUrl": "",
      "userId": ""
     },
     "user_tz": 0
    },
    "id": "dUrLMhAcZYDY",
    "outputId": "27b7dcd5-454c-410d-fc95-ee2db65b84b1"
   },
   "outputs": [
    {
     "name": "stdout",
     "output_type": "stream",
     "text": [
      "matplotlib 3.0.2\n"
     ]
    }
   ],
   "source": [
    "from __future__ import absolute_import, division, print_function\n",
    "\n",
    "%matplotlib inline\n",
    "\n",
    "import itertools\n",
    "import matplotlib as mpl\n",
    "import matplotlib.pyplot as plt\n",
    "import numpy as np\n",
    "import time\n",
    "\n",
    "mpl.style.use(\"classic\")\n",
    "mpl.rcParams[\"figure.figsize\"] = [5, 3]\n",
    "\n",
    "mpl.rcParams[\"axes.linewidth\"] = 0.75\n",
    "mpl.rcParams[\"grid.linewidth\"] = 0.75\n",
    "mpl.rcParams[\"lines.linewidth\"] = 0.75\n",
    "mpl.rcParams[\"patch.linewidth\"] = 0.75\n",
    "mpl.rcParams[\"xtick.major.size\"] = 3\n",
    "mpl.rcParams[\"ytick.major.size\"] = 3\n",
    "\n",
    "mpl.rcParams[\"pdf.fonttype\"] = 42\n",
    "mpl.rcParams[\"ps.fonttype\"] = 42\n",
    "mpl.rcParams[\"font.size\"] = 7\n",
    "mpl.rcParams[\"axes.titlesize\"] = \"medium\"\n",
    "mpl.rcParams[\"legend.fontsize\"] = \"medium\"\n",
    "\n",
    "print(\"matplotlib %s\" % mpl.__version__)\n",
    "\n",
    "from bandits.simulator import *\n",
    "from bandits.algorithms import *\n",
    "from bandits.phe import *\n",
    "from bandits.dropout import *\n",
    "from bandits.hse import *\n",
    "\n",
    "def linestyle2dashes(style):\n",
    "  if style == \"--\":\n",
    "    return (3, 3)\n",
    "  elif style == \":\":\n",
    "    return (0.5, 2.5)\n",
    "  else:\n",
    "    return (None, None)"
   ]
  },
  {
   "cell_type": "code",
   "execution_count": 2,
   "metadata": {
    "colab": {
     "height": 306
    },
    "colab_type": "code",
    "executionInfo": {
     "elapsed": 305,
     "status": "ok",
     "timestamp": 1559316773206,
     "user": {
      "displayName": "",
      "photoUrl": "",
      "userId": ""
     },
     "user_tz": 0
    },
    "id": "6MyHa6YdZYDg",
    "outputId": "dced5c93-dfe7-4d62-8bc8-40054e171e2d"
   },
   "outputs": [
    {
     "name": "stdout",
     "output_type": "stream",
     "text": [
      "Bernoulli bandit with arms (0.800, 0.200)\n",
      " E[r] = 0.80 0.20\n",
      "a*(x) = 0\n",
      "    r = 1.00 0.00\n",
      "    r = 1.00 1.00\n",
      "    r = 1.00 0.00\n",
      "    r = 1.00 1.00\n",
      "    r = 1.00 0.00\n",
      "\n",
      "Beta bandit with arms (0.800, 0.200)\n",
      " E[r] = 0.80 0.20\n",
      "a*(x) = 0\n",
      "    r = 0.95 0.04\n",
      "    r = 0.79 0.36\n",
      "    r = 0.86 0.00\n",
      "    r = 0.73 0.09\n",
      "    r = 0.67 0.16\n"
     ]
    }
   ],
   "source": [
    "env = BerBandit(np.asarray([0.8, 0.2]))\n",
    "print(env.print())\n",
    "print(\" E[r] = %s\" % \" \".join([\"%.2f\" % val for val in env.mu]))\n",
    "print(\"a*(x) = %d\" % env.best_arm)\n",
    "for trial in range(5):\n",
    "  env.randomize()\n",
    "  print(\"    r = %s\" % \" \".join([\"%.2f\" % val for val in env.rt]))\n",
    "print()\n",
    "\n",
    "env = BetaBandit(np.asarray([0.8, 0.2]))\n",
    "print(env.print())\n",
    "print(\" E[r] = %s\" % \" \".join([\"%.2f\" % val for val in env.mu]))\n",
    "print(\"a*(x) = %d\" % env.best_arm)\n",
    "for trial in range(5):\n",
    "  env.randomize()\n",
    "  print(\"    r = %s\" % \" \".join([\"%.2f\" % val for val in env.rt]))"
   ]
  },
  {
   "cell_type": "code",
   "execution_count": null,
   "metadata": {
    "colab": {
     "height": 766
    },
    "colab_type": "code",
    "executionInfo": {
     "elapsed": 2757702,
     "status": "ok",
     "timestamp": 1559319530989,
     "user": {
      "displayName": "",
      "photoUrl": "",
      "userId": ""
     },
     "user_tz": 0
    },
    "id": "Yre9y_joZYDq",
    "outputId": "ca0e5ebd-985e-4f98-f57d-86c87bc6295f"
   },
   "outputs": [],
   "source": [
    "import datetime\n",
    "\n",
    "algs = [\n",
    "  #(\"UCB1\", {}, \"cyan\", \"-\", \"UCB1\"),\n",
    "  #(\"KLUCB\", {}, \"blue\", \"-\", \"KL-UCB\"),\n",
    "  (\"TS\", {}, \"gray\", \"-\", \"TS\"),\n",
    "  #(\"Giro\", {}, \"greenyellow\", \"-\", \"Giro\"),\n",
    "  #(\"FPL\", {}, \"green\", \"-\", \"FPL\"),\n",
    "  #(\"PHE\", {\"a\": 2.1}, \"red\", \"-\", \"PHE (a = 2.1)\"),\n",
    "  (\"PHE\", {\"a\": 1.1}, \"darkorange\", \"-\", \"PHE (a = 1.1)\"),\n",
    "  (\"PHE\", {\"a\": 0.5}, \"gold\", \"-\", \"PHE (a = 0.5)\"),\n",
    "  (\"HistorySwapping\", {\"swap_prob\": 0.1}, \"black\", \"-\", \"HS (swap_prob = 0.1)\"),\n",
    "  (\"HistorySwapping\", {\"swap_prob\": 0.05}, \"green\", \"-\", \"HS (swap_prob = 0.05)\"),\n",
    "  (\"HistorySwapping\", {\"swap_prob\": 0.02}, \"blue\", \"-\", \"HS (swap_prob = 0.02)\"),\n",
    "]\n",
    "num_runs = 50\n",
    "n = 10000\n",
    "K = 10\n",
    "\n",
    "step = np.arange(1, n + 1)\n",
    "sube = (step.size // 10) * np.arange(1, 11) - 1\n",
    "\n",
    "plt.figure(figsize=(5.5, 2))\n",
    "for fig in range(1,2):\n",
    "  env = []\n",
    "  for run in range(num_runs):\n",
    "    mu = 0.5 * np.random.rand(K) + 0.25\n",
    "    if fig == 0:\n",
    "      env.append(BerBandit(mu))\n",
    "    else:\n",
    "      env.append(GaussBandit(mu, sigma=0.2))\n",
    "\n",
    "  #plt.subplot(1, 2, fig + 1)\n",
    "  plt.subplot(1, 1, 1)\n",
    "  alg_num = 0\n",
    "  for alg in algs:\n",
    "    alg_class = globals()[alg[0]]\n",
    "    regret, _ = evaluate(alg_class, alg[1], env, n)\n",
    "\n",
    "    cum_regret = regret.cumsum(axis=0)\n",
    "    plt.plot(step, cum_regret.mean(axis=1),\n",
    "      alg[2], dashes=linestyle2dashes(alg[3]),\n",
    "      label=alg[4] if alg_num // 4 == fig else None)\n",
    "    plt.errorbar(step[sube], cum_regret[sube, :].mean(axis=1),\n",
    "      cum_regret[sube, :].std(axis=1) / np.sqrt(cum_regret.shape[1]),\n",
    "      fmt=\"none\", ecolor=alg[2])\n",
    "\n",
    "    alg_num += 1\n",
    "\n",
    "  if fig == 0:\n",
    "    plt.title(\"Bernoulli bandit\")\n",
    "  else:\n",
    "    plt.title(\"Gauss bandit\")\n",
    "  plt.xlabel(\"Round n\")\n",
    "  if not fig:\n",
    "    plt.ylabel(\"Regret\")\n",
    "  #plt.ylim(0, 400)\n",
    "  if fig <= 1:\n",
    "    plt.legend(loc=\"upper left\", frameon=False)\n",
    "\n",
    "plt.tight_layout()\n",
    "now = datetime.datetime.now()\n",
    "with open(\"results/PHE_HS_{}_{}.pdf\".format(now.hour, now.minute), \"wb\") as f:\n",
    "  plt.savefig(f, format=\"pdf\", dpi=1200, bbox_inches=0)\n",
    "plt.show()"
   ]
  },
  {
   "cell_type": "code",
   "execution_count": 6,
   "metadata": {},
   "outputs": [
    {
     "name": "stdout",
     "output_type": "stream",
     "text": [
      "Evaluating PHE.................................................. 71.2 seconds\n",
      "Regret: 148.54 +/- 7.58 (median: 147.00, max: 335.00, min: 60.00)\n",
      "Evaluating PHE.................................................. 71.4 seconds\n",
      "Regret: 182.60 +/- 50.62 (median: 35.50, max: 1455.00, min: 6.00)\n",
      "Evaluating Histroy-Swapping.................................................. 45.1 seconds\n",
      "Regret: 252.64 +/- 60.13 (median: 48.50, max: 2031.00, min: 19.00)\n",
      "Evaluating Histroy-Swapping.................................................. 108.7 seconds\n",
      "Regret: 206.42 +/- 29.88 (median: 113.00, max: 1089.00, min: 64.00)\n",
      "Evaluating Histroy-Swapping.................................................. 190.9 seconds\n",
      "Regret: 257.70 +/- 30.66 (median: 174.00, max: 1334.00, min: 92.00)\n",
      "Evaluating PHE.................................................. 89.2 seconds\n",
      "Regret: 143.74 +/- 3.88 (median: 144.21, max: 211.80, min: 88.47)\n",
      "Evaluating PHE.................................................. 91.9 seconds\n",
      "Regret: 58.71 +/- 3.67 (median: 52.77, max: 162.64, min: 19.90)\n",
      "Evaluating Histroy-Swapping.................................................. 79.8 seconds\n",
      "Regret: 163.49 +/- 37.76 (median: 53.14, max: 1610.73, min: 14.88)\n",
      "Evaluating Histroy-Swapping.................................................. 188.0 seconds\n",
      "Regret: 93.06 +/- 13.49 (median: 60.54, max: 602.64, min: 37.17)\n",
      "Evaluating Histroy-Swapping.................................................. 269.0 seconds\n",
      "Regret: 117.13 +/- 10.27 (median: 92.27, max: 390.74, min: 35.59)\n"
     ]
    },
    {
     "data": {
      "image/png": "[encoded data removed]",
      "text/plain": [
       "<Figure size 440x160 with 2 Axes>"
      ]
     },
     "metadata": {},
     "output_type": "display_data"
    }
   ],
   "source": [
    "import datetime\n",
    "\n",
    "algs = [\n",
    "  #(\"UCB1\", {}, \"cyan\", \"-\", \"UCB1\"),\n",
    "  #(\"KLUCB\", {}, \"blue\", \"-\", \"KL-UCB\"),\n",
    "  #(\"TS\", {}, \"gray\", \"-\", \"TS\"),\n",
    "  #(\"Giro\", {}, \"greenyellow\", \"-\", \"Giro\"),\n",
    "  #(\"FPL\", {}, \"green\", \"-\", \"FPL\"),\n",
    "  #(\"PHE\", {\"a\": 2.1}, \"red\", \"-\", \"PHE (a = 2.1)\"),\n",
    "  (\"PHE\", {\"a\": 1.1}, \"darkorange\", \"-\", \"PHE (a = 1.1)\"),\n",
    "  (\"PHE\", {\"a\": 0.5}, \"gold\", \"-\", \"PHE (a = 0.5)\"),\n",
    "  #(\"HistorySwapping\", {\"swap_prob\": 0.}, \"gray\", \"-\", \"HS (swap_prob = 0.)\"),\n",
    "  (\"HistorySwapping\", {\"swap_prob\": 0.01}, \"darkgreen\", \"-\", \"HS (swap_prob = 0.01)\"),\n",
    "  (\"HistorySwapping\", {\"swap_prob\": 0.05}, \"red\", \"-\", \"HS (swap_prob = 0.05)\"),\n",
    "  (\"HistorySwapping\", {\"swap_prob\": 0.1}, \"blue\", \"-\", \"HS (swap_prob = 0.1)\"),\n",
    "  #(\"HistorySwapping_MD\", {\"swap_prob\": 0.01}, \"red\", \"-\", \"HS_MD (swap_prob = 0.01)\"),\n",
    "  #(\"HistorySwapping\", {\"swap_prob\": 0.02}, \"black\", \"-\", \"HS (swap_prob = 0.02)\"),\n",
    "  #(\"FreshHistorySwapping\", {\"swap_prob\": 0.}, \"yellow\", \"-\", \"FHS (swap_prob = 0.)\"),\n",
    "  #(\"FreshHistorySwapping\", {\"swap_prob\": 0.01}, \"blue\", \"-\", \"FHS (swap_prob = 0.01)\"),\n",
    "  #(\"FreshHistorySwapping\", {\"swap_prob\": 0.02}, \"red\", \"-\", \"FHS (swap_prob = 0.02)\"),\n",
    "  #(\"FreshHistorySwapping\", {\"swap_prob\": 0.03}, \"darkgreen\", \"-\", \"FHS (swap_prob = 0.03)\"),\n",
    "  #(\"EpsilonGreedy\", {}, \"darkgreen\", \"-\", \"EpsilonGreedy\"),\n",
    "  #(\"DropoutExploration\", {}, \"blue\", \"-\", \"Dopout (drop_prob = epsilon)\"),\n",
    "  #(\"DropoutExploration\", {\"drop_prob\": 0.1}, \"red\", \"-\", \"Dopout (drop_prob = 0.1)\"),\n",
    "  #(\"DropoutExploration\", {\"drop_prob\": 0.15}, \"cyan\", \"-\", \"Dopout (drop_prob = 0.15)\"),\n",
    "]\n",
    "num_runs = 50\n",
    "n = 10000\n",
    "K = 10\n",
    "\n",
    "step = np.arange(1, n + 1)\n",
    "sube = (step.size // 10) * np.arange(1, 11) - 1\n",
    "\n",
    "plt.figure(figsize=(5.5, 2))\n",
    "for fig in range(2):\n",
    "  env = []\n",
    "  for run in range(num_runs):\n",
    "    mu = 0.5 * np.random.rand(K) + 0.25\n",
    "    if fig == 0:\n",
    "      env.append(BerBandit(mu))\n",
    "    else:\n",
    "      env.append(BetaBandit(mu))\n",
    "\n",
    "  plt.subplot(1, 2, fig + 1)\n",
    "  #plt.subplot(1, 1, 1)\n",
    "  alg_num = 0\n",
    "  for alg in algs:\n",
    "    alg_class = globals()[alg[0]]\n",
    "    regret, _ = evaluate(alg_class, alg[1], env, n)\n",
    "\n",
    "    cum_regret = regret.cumsum(axis=0)\n",
    "    plt.plot(step, cum_regret.mean(axis=1),\n",
    "      alg[2], dashes=linestyle2dashes(alg[3]),\n",
    "      label=alg[4] if alg_num // 3 == fig else None)\n",
    "    plt.errorbar(step[sube], cum_regret[sube, :].mean(axis=1),\n",
    "      cum_regret[sube, :].std(axis=1) / np.sqrt(cum_regret.shape[1]),\n",
    "      fmt=\"none\", ecolor=alg[2])\n",
    "\n",
    "    alg_num += 1\n",
    "\n",
    "  if fig == 0:\n",
    "    plt.title(\"Bernoulli bandit\")\n",
    "  else:\n",
    "    plt.title(\"Beta bandit\")\n",
    "  plt.xlabel(\"Round n\")\n",
    "  if not fig:\n",
    "    plt.ylabel(\"Regret\")\n",
    "  #plt.ylim(0, 400)\n",
    "  if fig <= 1:\n",
    "    plt.legend(loc=\"upper left\", frameon=False)\n",
    "\n",
    "plt.tight_layout()\n",
    "now = datetime.datetime.now()\n",
    "with open(\"results/FHS_{}_{}.jpeg\".format(now.hour, now.minute), \"wb\") as f:\n",
    "  plt.savefig(f, format=\"jpeg\", dpi=1200, bbox_inches=0)\n",
    "plt.show()"
   ]
  },
  {
   "cell_type": "code",
   "execution_count": null,
   "metadata": {},
   "outputs": [],
   "source": []
  },
  {
   "cell_type": "code",
   "execution_count": null,
   "metadata": {},
   "outputs": [],
   "source": []
  }
 ],
 "metadata": {
  "colab": {
   "collapsed_sections": [],
   "last_runtime": {
    "build_target": "//research/colab/notebook:notebook_backend",
    "kind": "private"
   },
   "name": "PHE.ipynb",
   "provenance": [
    {
     "file_id": "/piper/depot/google3/experimental/users/bkveton/PHE/ICML2019/Giro.ipynb?workspaceId=bkveton:bandits::citc",
     "timestamp": 1550373354024
    },
    {
     "file_id": "/piper/depot/google3/experimental/users/bkveton/PHE/PHE.ipynb?workspaceId=bkveton:custom_colab::citc",
     "timestamp": 1547612018471
    },
    {
     "file_id": "1LhE7RPIsiVHxKVhhQ_ddNwtL78yqsrZi",
     "timestamp": 1546401322558
    },
    {
     "file_id": "1hGOquMsYlCi0_oDMIM_IlidSI7sPWoYF",
     "timestamp": 1536892738296
    },
    {
     "file_id": "11k4kxddvtZjrTYpnuJP549znnEadfMNL",
     "timestamp": 1535848084981
    }
   ]
  },
  "kernelspec": {
   "display_name": "Python 3",
   "language": "python",
   "name": "python3"
  },
  "language_info": {
   "codemirror_mode": {
    "name": "ipython",
    "version": 3
   },
   "file_extension": ".py",
   "mimetype": "text/x-python",
   "name": "python",
   "nbconvert_exporter": "python",
   "pygments_lexer": "ipython3",
   "version": "3.6.10"
  }
 },
 "nbformat": 4,
 "nbformat_minor": 1
}
