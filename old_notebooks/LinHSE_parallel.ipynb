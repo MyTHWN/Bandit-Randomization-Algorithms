{
 "cells": [
  {
   "cell_type": "code",
   "execution_count": 5,
   "metadata": {
    "cellView": "form",
    "colab": {
     "height": 34
    },
    "colab_type": "code",
    "executionInfo": {
     "elapsed": 11910,
     "status": "ok",
     "timestamp": 1563554785932,
     "user": {
      "displayName": "",
      "photoUrl": "",
      "userId": ""
     },
     "user_tz": 0
    },
    "id": "dUrLMhAcZYDY",
    "outputId": "76c1d084-e533-4d5c-e63a-f4cd6a4d8f5b"
   },
   "outputs": [
    {
     "name": "stdout",
     "output_type": "stream",
     "text": [
      "matplotlib 3.2.1\n"
     ]
    }
   ],
   "source": [
    "from __future__ import absolute_import, division, print_function\n",
    "\n",
    "#@title Imports and defaults\n",
    "%matplotlib inline\n",
    "\n",
    "import itertools\n",
    "import matplotlib as mpl\n",
    "import matplotlib.pyplot as plt\n",
    "import numpy as np\n",
    "import time\n",
    "import os\n",
    "\n",
    "mpl.style.use(\"classic\")\n",
    "mpl.rcParams[\"figure.figsize\"] = [5, 3]\n",
    "\n",
    "mpl.rcParams[\"axes.linewidth\"] = 0.75\n",
    "mpl.rcParams[\"grid.linewidth\"] = 0.75\n",
    "mpl.rcParams[\"lines.linewidth\"] = 0.75\n",
    "mpl.rcParams[\"patch.linewidth\"] = 0.75\n",
    "mpl.rcParams[\"xtick.major.size\"] = 3\n",
    "mpl.rcParams[\"ytick.major.size\"] = 3\n",
    "\n",
    "mpl.rcParams[\"pdf.fonttype\"] = 42\n",
    "mpl.rcParams[\"ps.fonttype\"] = 42\n",
    "mpl.rcParams[\"font.size\"] = 7\n",
    "mpl.rcParams[\"axes.titlesize\"] = \"medium\"\n",
    "mpl.rcParams[\"legend.fontsize\"] = \"medium\"\n",
    "\n",
    "print(\"matplotlib %s\" % mpl.__version__)\n",
    "\n",
    "from bandits.simulator import *\n",
    "from bandits.algorithms import *\n",
    "from bandits.phe import *\n",
    "from bandits.dropout import *\n",
    "from bandits.hse import *\n",
    "\n",
    "def linestyle2dashes(style):\n",
    "  if style == \"--\":\n",
    "    return (3, 3)\n",
    "  elif style == \":\":\n",
    "    return (0.5, 2.5)\n",
    "  else:\n",
    "    return (None, None)"
   ]
  },
  {
   "cell_type": "code",
   "execution_count": 6,
   "metadata": {
    "colab": {
     "height": 306
    },
    "colab_type": "code",
    "executionInfo": {
     "elapsed": 298,
     "status": "ok",
     "timestamp": 1563554786249,
     "user": {
      "displayName": "",
      "photoUrl": "",
      "userId": ""
     },
     "user_tz": 0
    },
    "id": "6MyHa6YdZYDg",
    "outputId": "fb6610ea-7b69-4da5-b2a5-d170a3d4cbb4"
   },
   "outputs": [
    {
     "name": "stdout",
     "output_type": "stream",
     "text": [
      "Bernoulli linear bandit: 3 dimensions, 2 arms\n",
      " E[r] = 0.90 0.10\n",
      "a*(x) = 0\n",
      "    r = 1.00 0.00\n",
      "    r = 1.00 0.00\n",
      "    r = 1.00 0.00\n",
      "    r = 1.00 0.00\n",
      "    r = 1.00 1.00\n",
      "\n",
      "Beta linear bandit: 3 dimensions, 2 arms\n",
      " E[r] = 0.90 0.10\n",
      "a*(x) = 0\n",
      "    r = 0.94 0.50\n",
      "    r = 0.88 0.33\n",
      "    r = 0.98 0.00\n",
      "    r = 0.84 0.11\n",
      "    r = 0.84 0.17\n"
     ]
    }
   ],
   "source": [
    "X = np.asarray([[0.9, 0.1, 1], [0.1, 0.9, 1]])\n",
    "theta = np.asarray([1, 0, 0])\n",
    "\n",
    "env = LinBandit(X, theta, \"bernoulli\")\n",
    "print(env.print())\n",
    "print(\" E[r] = %s\" % \" \".join([\"%.2f\" % val for val in env.mu]))\n",
    "print(\"a*(x) = %d\" % env.best_arm)\n",
    "for trial in range(5):\n",
    "  env.randomize()\n",
    "  print(\"    r = %s\" % \" \".join([\"%.2f\" % val for val in env.rt]))\n",
    "print()\n",
    "\n",
    "env = LinBandit(X, theta, \"beta\")\n",
    "print(env.print())\n",
    "print(\" E[r] = %s\" % \" \".join([\"%.2f\" % val for val in env.mu]))\n",
    "print(\"a*(x) = %d\" % env.best_arm)\n",
    "for trial in range(5):\n",
    "  env.randomize()\n",
    "  print(\"    r = %s\" % \" \".join([\"%.2f\" % val for val in env.rt]))"
   ]
  },
  {
   "cell_type": "code",
   "execution_count": 24,
   "metadata": {
    "cellView": "both",
    "colab": {
     "height": 732
    },
    "colab_type": "code",
    "executionInfo": {
     "elapsed": 7425,
     "status": "ok",
     "timestamp": 1563554793743,
     "user": {
      "displayName": "",
      "photoUrl": "",
      "userId": ""
     },
     "user_tz": 0
    },
    "id": "yI_rP5VL5Ke9",
    "outputId": "7b77e6ff-8b8a-4587-a2cb-dbea389ccfff"
   },
   "outputs": [
    {
     "name": "stdout",
     "output_type": "stream",
     "text": [
      " 20: 0.26 0.80 |  25: 0.24 0.78 |   3: 0.18 0.74 |  48: 0.22 0.78 |  42: 0.29 0.77 |  37: 0.24 0.79 |  20: 0.20 0.74 |  26: 0.25 0.80 |  47: 0.19 0.88 |  31: 0.20 0.81 | \n",
      " 18: 0.22 0.90 |  18: 0.26 0.78 |  48: 0.21 0.87 |   5: 0.16 0.79 |  29: 0.16 0.79 |   7: 0.13 0.84 |  27: 0.14 0.77 |   3: 0.22 0.77 |   1: 0.19 0.80 |   0: 0.24 0.91 | \n",
      "Evaluating LinPHE......"
     ]
    },
    {
     "name": "stderr",
     "output_type": "stream",
     "text": [
      "Process Process-1218:\n",
      "Traceback (most recent call last):\n",
      "  File \"/usr/lib/python3.7/multiprocessing/process.py\", line 297, in _bootstrap\n",
      "    self.run()\n",
      "  File \"/usr/lib/python3.7/multiprocessing/process.py\", line 99, in run\n",
      "    self._target(*self._args, **self._kwargs)\n",
      "  File \"/usr/local/google/home/nolenwang/Desktop/intern/Bandit-Randomization-Algorithms-history-swapping/bandits/simulator.py\", line 337, in evaluate_one_worker\n",
      "    arm = alg.get_arm(t)\n",
      "  File \"/usr/local/google/home/nolenwang/Desktop/intern/Bandit-Randomization-Algorithms-history-swapping/bandits/phe.py\", line 165, in get_arm\n",
      "    axes=([0], [0]))\n"
     ]
    },
    {
     "ename": "KeyboardInterrupt",
     "evalue": "",
     "output_type": "error",
     "traceback": [
      "\u001b[0;31m---------------------------------------------------------------------------\u001b[0m",
      "\u001b[0;31mKeyboardInterrupt\u001b[0m                         Traceback (most recent call last)",
      "\u001b[0;32m<ipython-input-24-91c07bbf4526>\u001b[0m in \u001b[0;36m<module>\u001b[0;34m\u001b[0m\n\u001b[1;32m     72\u001b[0m \u001b[0;31m#       regret = np.load(f)\u001b[0m\u001b[0;34m\u001b[0m\u001b[0;34m\u001b[0m\u001b[0;34m\u001b[0m\u001b[0m\n\u001b[1;32m     73\u001b[0m     \u001b[0;32mif\u001b[0m \u001b[0md\u001b[0m \u001b[0;34m<\u001b[0m \u001b[0;36m20\u001b[0m\u001b[0;34m:\u001b[0m\u001b[0;34m\u001b[0m\u001b[0;34m\u001b[0m\u001b[0m\n\u001b[0;32m---> 74\u001b[0;31m         \u001b[0mregret\u001b[0m\u001b[0;34m,\u001b[0m \u001b[0m_\u001b[0m \u001b[0;34m=\u001b[0m \u001b[0mevaluate_parallel\u001b[0m\u001b[0;34m(\u001b[0m\u001b[0malg_class\u001b[0m\u001b[0;34m,\u001b[0m \u001b[0malg\u001b[0m\u001b[0;34m[\u001b[0m\u001b[0;36m1\u001b[0m\u001b[0;34m]\u001b[0m\u001b[0;34m,\u001b[0m \u001b[0menv\u001b[0m\u001b[0;34m,\u001b[0m \u001b[0mn\u001b[0m\u001b[0;34m,\u001b[0m \u001b[0mnum_process\u001b[0m\u001b[0;34m=\u001b[0m\u001b[0;36m1\u001b[0m\u001b[0;34m)\u001b[0m\u001b[0;34m\u001b[0m\u001b[0;34m\u001b[0m\u001b[0m\n\u001b[0m\u001b[1;32m     75\u001b[0m     \u001b[0;32melse\u001b[0m\u001b[0;34m:\u001b[0m\u001b[0;34m\u001b[0m\u001b[0;34m\u001b[0m\u001b[0m\n\u001b[1;32m     76\u001b[0m         \u001b[0mregret\u001b[0m\u001b[0;34m,\u001b[0m \u001b[0m_\u001b[0m \u001b[0;34m=\u001b[0m \u001b[0mevaluate\u001b[0m\u001b[0;34m(\u001b[0m\u001b[0malg_class\u001b[0m\u001b[0;34m,\u001b[0m \u001b[0malg\u001b[0m\u001b[0;34m[\u001b[0m\u001b[0;36m1\u001b[0m\u001b[0;34m]\u001b[0m\u001b[0;34m,\u001b[0m \u001b[0menv\u001b[0m\u001b[0;34m,\u001b[0m \u001b[0mn\u001b[0m\u001b[0;34m)\u001b[0m\u001b[0;34m\u001b[0m\u001b[0;34m\u001b[0m\u001b[0m\n",
      "\u001b[0;32m~/Desktop/intern/Bandit-Randomization-Algorithms-history-swapping/bandits/simulator.py\u001b[0m in \u001b[0;36mevaluate_parallel\u001b[0;34m(Alg, params, exp_envs, n, num_process, period_size, printout)\u001b[0m\n\u001b[1;32m    381\u001b[0m \u001b[0;34m\u001b[0m\u001b[0m\n\u001b[1;32m    382\u001b[0m   \u001b[0;32mfor\u001b[0m \u001b[0mjob\u001b[0m \u001b[0;32min\u001b[0m \u001b[0mjobs\u001b[0m\u001b[0;34m:\u001b[0m\u001b[0;34m\u001b[0m\u001b[0;34m\u001b[0m\u001b[0m\n\u001b[0;32m--> 383\u001b[0;31m     \u001b[0mjob\u001b[0m\u001b[0;34m.\u001b[0m\u001b[0mjoin\u001b[0m\u001b[0;34m(\u001b[0m\u001b[0;34m)\u001b[0m\u001b[0;34m\u001b[0m\u001b[0;34m\u001b[0m\u001b[0m\n\u001b[0m\u001b[1;32m    384\u001b[0m \u001b[0;34m\u001b[0m\u001b[0m\n\u001b[1;32m    385\u001b[0m   \u001b[0;32mfor\u001b[0m \u001b[0mjob\u001b[0m \u001b[0;32min\u001b[0m \u001b[0mjobs\u001b[0m\u001b[0;34m:\u001b[0m\u001b[0;34m\u001b[0m\u001b[0;34m\u001b[0m\u001b[0m\n",
      "\u001b[0;32m/usr/lib/python3.7/multiprocessing/process.py\u001b[0m in \u001b[0;36mjoin\u001b[0;34m(self, timeout)\u001b[0m\n\u001b[1;32m    138\u001b[0m         \u001b[0;32massert\u001b[0m \u001b[0mself\u001b[0m\u001b[0;34m.\u001b[0m\u001b[0m_parent_pid\u001b[0m \u001b[0;34m==\u001b[0m \u001b[0mos\u001b[0m\u001b[0;34m.\u001b[0m\u001b[0mgetpid\u001b[0m\u001b[0;34m(\u001b[0m\u001b[0;34m)\u001b[0m\u001b[0;34m,\u001b[0m \u001b[0;34m'can only join a child process'\u001b[0m\u001b[0;34m\u001b[0m\u001b[0;34m\u001b[0m\u001b[0m\n\u001b[1;32m    139\u001b[0m         \u001b[0;32massert\u001b[0m \u001b[0mself\u001b[0m\u001b[0;34m.\u001b[0m\u001b[0m_popen\u001b[0m \u001b[0;32mis\u001b[0m \u001b[0;32mnot\u001b[0m \u001b[0;32mNone\u001b[0m\u001b[0;34m,\u001b[0m \u001b[0;34m'can only join a started process'\u001b[0m\u001b[0;34m\u001b[0m\u001b[0;34m\u001b[0m\u001b[0m\n\u001b[0;32m--> 140\u001b[0;31m         \u001b[0mres\u001b[0m \u001b[0;34m=\u001b[0m \u001b[0mself\u001b[0m\u001b[0;34m.\u001b[0m\u001b[0m_popen\u001b[0m\u001b[0;34m.\u001b[0m\u001b[0mwait\u001b[0m\u001b[0;34m(\u001b[0m\u001b[0mtimeout\u001b[0m\u001b[0;34m)\u001b[0m\u001b[0;34m\u001b[0m\u001b[0;34m\u001b[0m\u001b[0m\n\u001b[0m\u001b[1;32m    141\u001b[0m         \u001b[0;32mif\u001b[0m \u001b[0mres\u001b[0m \u001b[0;32mis\u001b[0m \u001b[0;32mnot\u001b[0m \u001b[0;32mNone\u001b[0m\u001b[0;34m:\u001b[0m\u001b[0;34m\u001b[0m\u001b[0;34m\u001b[0m\u001b[0m\n\u001b[1;32m    142\u001b[0m             \u001b[0m_children\u001b[0m\u001b[0;34m.\u001b[0m\u001b[0mdiscard\u001b[0m\u001b[0;34m(\u001b[0m\u001b[0mself\u001b[0m\u001b[0;34m)\u001b[0m\u001b[0;34m\u001b[0m\u001b[0;34m\u001b[0m\u001b[0m\n",
      "\u001b[0;32m/usr/lib/python3.7/multiprocessing/popen_fork.py\u001b[0m in \u001b[0;36mwait\u001b[0;34m(self, timeout)\u001b[0m\n\u001b[1;32m     46\u001b[0m                     \u001b[0;32mreturn\u001b[0m \u001b[0;32mNone\u001b[0m\u001b[0;34m\u001b[0m\u001b[0;34m\u001b[0m\u001b[0m\n\u001b[1;32m     47\u001b[0m             \u001b[0;31m# This shouldn't block if wait() returned successfully.\u001b[0m\u001b[0;34m\u001b[0m\u001b[0;34m\u001b[0m\u001b[0;34m\u001b[0m\u001b[0m\n\u001b[0;32m---> 48\u001b[0;31m             \u001b[0;32mreturn\u001b[0m \u001b[0mself\u001b[0m\u001b[0;34m.\u001b[0m\u001b[0mpoll\u001b[0m\u001b[0;34m(\u001b[0m\u001b[0mos\u001b[0m\u001b[0;34m.\u001b[0m\u001b[0mWNOHANG\u001b[0m \u001b[0;32mif\u001b[0m \u001b[0mtimeout\u001b[0m \u001b[0;34m==\u001b[0m \u001b[0;36m0.0\u001b[0m \u001b[0;32melse\u001b[0m \u001b[0;36m0\u001b[0m\u001b[0;34m)\u001b[0m\u001b[0;34m\u001b[0m\u001b[0;34m\u001b[0m\u001b[0m\n\u001b[0m\u001b[1;32m     49\u001b[0m         \u001b[0;32mreturn\u001b[0m \u001b[0mself\u001b[0m\u001b[0;34m.\u001b[0m\u001b[0mreturncode\u001b[0m\u001b[0;34m\u001b[0m\u001b[0;34m\u001b[0m\u001b[0m\n\u001b[1;32m     50\u001b[0m \u001b[0;34m\u001b[0m\u001b[0m\n",
      "\u001b[0;32m/usr/lib/python3.7/multiprocessing/popen_fork.py\u001b[0m in \u001b[0;36mpoll\u001b[0;34m(self, flag)\u001b[0m\n\u001b[1;32m     26\u001b[0m         \u001b[0;32mif\u001b[0m \u001b[0mself\u001b[0m\u001b[0;34m.\u001b[0m\u001b[0mreturncode\u001b[0m \u001b[0;32mis\u001b[0m \u001b[0;32mNone\u001b[0m\u001b[0;34m:\u001b[0m\u001b[0;34m\u001b[0m\u001b[0;34m\u001b[0m\u001b[0m\n\u001b[1;32m     27\u001b[0m             \u001b[0;32mtry\u001b[0m\u001b[0;34m:\u001b[0m\u001b[0;34m\u001b[0m\u001b[0;34m\u001b[0m\u001b[0m\n\u001b[0;32m---> 28\u001b[0;31m                 \u001b[0mpid\u001b[0m\u001b[0;34m,\u001b[0m \u001b[0msts\u001b[0m \u001b[0;34m=\u001b[0m \u001b[0mos\u001b[0m\u001b[0;34m.\u001b[0m\u001b[0mwaitpid\u001b[0m\u001b[0;34m(\u001b[0m\u001b[0mself\u001b[0m\u001b[0;34m.\u001b[0m\u001b[0mpid\u001b[0m\u001b[0;34m,\u001b[0m \u001b[0mflag\u001b[0m\u001b[0;34m)\u001b[0m\u001b[0;34m\u001b[0m\u001b[0;34m\u001b[0m\u001b[0m\n\u001b[0m\u001b[1;32m     29\u001b[0m             \u001b[0;32mexcept\u001b[0m \u001b[0mOSError\u001b[0m \u001b[0;32mas\u001b[0m \u001b[0me\u001b[0m\u001b[0;34m:\u001b[0m\u001b[0;34m\u001b[0m\u001b[0;34m\u001b[0m\u001b[0m\n\u001b[1;32m     30\u001b[0m                 \u001b[0;31m# Child process not yet created. See #1731717\u001b[0m\u001b[0;34m\u001b[0m\u001b[0;34m\u001b[0m\u001b[0;34m\u001b[0m\u001b[0m\n",
      "\u001b[0;31mKeyboardInterrupt\u001b[0m: "
     ]
    },
    {
     "name": "stderr",
     "output_type": "stream",
     "text": [
      "  File \"<__array_function__ internals>\", line 6, in tensordot\n",
      "  File \"/usr/local/lib/python3.7/dist-packages/numpy/core/numeric.py\", line 1102, in tensordot\n",
      "    res = dot(at, bt)\n",
      "  File \"<__array_function__ internals>\", line 6, in dot\n",
      "KeyboardInterrupt\n"
     ]
    },
    {
     "data": {
      "image/png": "[encoded data removed]",
      "text/plain": [
       "<Figure size 600x160 with 1 Axes>"
      ]
     },
     "metadata": {},
     "output_type": "display_data"
    }
   ],
   "source": [
    "import datetime\n",
    "\n",
    "reward_noise = \"bernoulli\"\n",
    "\n",
    "algs = [\n",
    "  #(\"LinUCB\", {}, \"cyan\", \"-\", \"LinUCB\"),\n",
    "  #(\"LinTS\", {}, \"gray\", \"-\", \"LinTS\"),\n",
    "  #(\"LinGreedy\", {}, \"blue\", \"-\", \"$\\\\varepsilon$-greedy\"),\n",
    "  #(\"LinPHE\", {\"a\": 2}, \"red\", \"-\", \"LinPHE (a = 2)\"),\n",
    "  #(\"LinPHE\", {\"a\": 1}, \"darkorange\", \"-\", \"LinPHE (a = 1)\"),\n",
    "  (\"LinPHE\", {\"a\": 0.5}, \"gold\", \"-\", \"LinPHE (a = 0.5)\"),\n",
    "  #(\"LinHistorySwap\", {\"swap_prob\": 0.2, \"swap_top\": -1}, \"black\", \"-\", \"LinHS (swap_prob=0.2, swap_top=-1)\"),\n",
    "  (\"LinHistorySwap\", {\"swap_prob\": 0.03, \"swap_top\": -1}, \"black\", \"-\", \"LinHS (swap_prob=0.03)\"),\n",
    "  (\"LinHistorySwap\", {\"swap_prob\": 0.05, \"swap_top\": -1}, \"darkorange\", \"-\", \"LinHS (swap_prob=0.05)\"),\n",
    "  (\"LinFreshHistorySwap\", {\"swap_prob\": 0.0003}, \"red\", \"-\", \"LinFHS (swap_prob=3e-4)\"),\n",
    "  (\"LinFreshHistorySwap\", {\"swap_prob\": 0.001}, \"blue\", \"-\", \"LinFHS (swap_prob=1e-3)\"),\n",
    "  (\"LinFreshHistorySwap\", {\"swap_prob\": 0.003}, \"magenta\", \"-\", \"LinFHS (swap_prob=3e-3)\"),\n",
    "]\n",
    "num_runs = 20\n",
    "n = 10000\n",
    "K = 50\n",
    "\n",
    "step = np.arange(1, n + 1)\n",
    "sube = (step.size // 10) * np.arange(1, 11) - 1\n",
    "\n",
    "plt.figure(figsize=(7.5, 2))\n",
    "for fig in range(3):\n",
    "  if fig == 0:\n",
    "    d = 14\n",
    "  elif fig == 1:\n",
    "    d = 20\n",
    "  else:\n",
    "    d = 20\n",
    "\n",
    "  env = []\n",
    "  for run in range(num_runs):\n",
    "    # standard d-dimensional basis (with a bias term)\n",
    "    basis = np.eye(d)\n",
    "    basis[:, -1] = 1\n",
    "\n",
    "    # arm features in a unit (d - 2)-sphere\n",
    "    X = np.random.randn(K, d - 1)\n",
    "    X /= np.sqrt(np.square(X).sum(axis=1))[:, np.newaxis]\n",
    "    X = np.hstack((X, np.ones((K, 1))))  # bias term\n",
    "    X[: basis.shape[0], :] = basis\n",
    "\n",
    "    # parameter vector in a (d - 2)-sphere with radius 0.5\n",
    "    theta = np.random.randn(d - 1)\n",
    "    theta *= 0.5 / np.sqrt(np.square(theta).sum())\n",
    "    theta = np.append(theta, [0.5])\n",
    "\n",
    "    # create environment\n",
    "    env.append(LinBandit(X, theta, reward_noise))\n",
    "    print(\"%3d: %.2f %.2f | \" % (env[-1].best_arm,\n",
    "      env[-1].mu.min(), env[-1].mu.max()), end=\"\")\n",
    "    if (run + 1) % 10 == 0:\n",
    "      print()\n",
    "\n",
    "  plt.subplot(1, 3, fig + 1)\n",
    "  # plt.subplot(1, 1, 1)\n",
    "  alg_num = 0\n",
    "  for alg in algs:\n",
    "    alg_class = eval(alg[0])\n",
    "\n",
    "#     fname = \"%s/lin_d=%d_%d_%s.npy\" % \\\n",
    "#       (current_dir, d, alg_num, alg[0].lower())\n",
    "#     if not os.path.exists(fname):\n",
    "#       regret, _ = evaluate(alg_class, alg[1], env, n)\n",
    "#       with open(fname, \"wb\") as f:\n",
    "#         np.save(f, regret)\n",
    "#     with open(fname, \"rb\") as f:\n",
    "#       regret = np.load(f)\n",
    "    if d < 14:\n",
    "        regret, _ = evaluate_parallel(alg_class, alg[1], env, n, num_process=12)\n",
    "    else:\n",
    "        regret, _ = evaluate(alg_class, alg[1], env, n)\n",
    "\n",
    "    cum_regret = regret.cumsum(axis=0)\n",
    "    std_regret = cum_regret.std(axis=1) / np.sqrt(cum_regret.shape[1])\n",
    "    plt.plot(step, cum_regret.mean(axis=1),\n",
    "      alg[2], dashes=linestyle2dashes(alg[3]),\n",
    "      label=alg[4] if alg_num // 3 == fig else None)\n",
    "    plt.fill_between(step,\n",
    "      cum_regret.mean(axis=1) - std_regret,\n",
    "      cum_regret.mean(axis=1) + std_regret,\n",
    "      color=alg[2], alpha=0.1, linewidth=0)\n",
    "\n",
    "    alg_num += 1\n",
    "\n",
    "  plt.title(\"d = %d\" % d)\n",
    "  plt.xlabel(\"Round n\")\n",
    "  if not fig:\n",
    "    plt.ylabel(\"Regret\")\n",
    "  #plt.ylim(0, 500 - 100 * (2 - fig))\n",
    "  if fig <= 1:\n",
    "    plt.legend(loc=\"upper left\", frameon=False)\n",
    "\n",
    "plt.tight_layout()\n",
    "\n",
    "now = datetime.datetime.now()\n",
    "with open(\"results/LinFHS_{}_{}_{}_{}_{}.pdf\".format(reward_noise, now.month, now.day, now.hour, now.minute), \"wb\") as f:\n",
    "  plt.savefig(f, format=\"pdf\", dpi=1200, bbox_inches=0)\n",
    "plt.show()"
   ]
  },
  {
   "cell_type": "code",
   "execution_count": null,
   "metadata": {},
   "outputs": [],
   "source": []
  },
  {
   "cell_type": "code",
   "execution_count": null,
   "metadata": {},
   "outputs": [],
   "source": []
  }
 ],
 "metadata": {
  "colab": {
   "collapsed_sections": [],
   "last_runtime": {
    "build_target": "//research/colab/notebook:notebook_backend",
    "kind": "private"
   },
   "name": "LinPHE.ipynb",
   "provenance": [
    {
     "file_id": "/piper/depot/google3/experimental/users/bkveton/PHE/LinPHE.ipynb?workspaceId=bkveton:bandits::citc",
     "timestamp": 1551499731146
    },
    {
     "file_id": "1tDjLRLsjR0h7AGAXwuF1FvrdylfiMRYV",
     "timestamp": 1545173695315
    },
    {
     "file_id": "1nH2KirlUdRSICZfpn0XrH2CBOqIL6brP",
     "timestamp": 1541137118545
    },
    {
     "file_id": "1LhE7RPIsiVHxKVhhQ_ddNwtL78yqsrZi",
     "timestamp": 1537332805316
    },
    {
     "file_id": "1hGOquMsYlCi0_oDMIM_IlidSI7sPWoYF",
     "timestamp": 1536892738296
    },
    {
     "file_id": "11k4kxddvtZjrTYpnuJP549znnEadfMNL",
     "timestamp": 1535848084981
    }
   ]
  },
  "kernelspec": {
   "display_name": "Python 3",
   "language": "python",
   "name": "python3"
  },
  "language_info": {
   "codemirror_mode": {
    "name": "ipython",
    "version": 3
   },
   "file_extension": ".py",
   "mimetype": "text/x-python",
   "name": "python",
   "nbconvert_exporter": "python",
   "pygments_lexer": "ipython3",
   "version": "3.6.10"
  }
 },
 "nbformat": 4,
 "nbformat_minor": 1
}
